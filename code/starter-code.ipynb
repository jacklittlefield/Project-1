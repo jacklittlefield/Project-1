{
 "cells": [
  {
   "cell_type": "markdown",
   "metadata": {},
   "source": [
    "# Project 1"
   ]
  },
  {
   "cell_type": "markdown",
   "metadata": {},
   "source": [
    "## Step 1: Load the data and perform basic operations."
   ]
  },
  {
   "cell_type": "markdown",
   "metadata": {},
   "source": [
    "##### 1. Load the data in using pandas."
   ]
  },
  {
   "cell_type": "code",
   "execution_count": 824,
   "metadata": {},
   "outputs": [],
   "source": [
    "import pandas as pd\n",
    "import numpy as np\n",
    "import seaborn as sns\n",
    "import matplotlib as plt\n",
    "%matplotlib inline"
   ]
  },
  {
   "cell_type": "code",
   "execution_count": 825,
   "metadata": {},
   "outputs": [],
   "source": [
    "sat = pd.read_csv('./sat.csv')\n",
    "act = pd.read_csv('./act.csv')"
   ]
  },
  {
   "cell_type": "markdown",
   "metadata": {},
   "source": [
    "##### 2. Print the first ten rows of each dataframe."
   ]
  },
  {
   "cell_type": "code",
   "execution_count": 826,
   "metadata": {},
   "outputs": [],
   "source": [
    "sat = sat.drop(['Unnamed: 0'], axis=1)"
   ]
  },
  {
   "cell_type": "code",
   "execution_count": 827,
   "metadata": {},
   "outputs": [
    {
     "data": {
      "text/html": [
       "<div>\n",
       "<style scoped>\n",
       "    .dataframe tbody tr th:only-of-type {\n",
       "        vertical-align: middle;\n",
       "    }\n",
       "\n",
       "    .dataframe tbody tr th {\n",
       "        vertical-align: top;\n",
       "    }\n",
       "\n",
       "    .dataframe thead th {\n",
       "        text-align: right;\n",
       "    }\n",
       "</style>\n",
       "<table border=\"1\" class=\"dataframe\">\n",
       "  <thead>\n",
       "    <tr style=\"text-align: right;\">\n",
       "      <th></th>\n",
       "      <th>State</th>\n",
       "      <th>Participation</th>\n",
       "      <th>Evidence-Based Reading and Writing</th>\n",
       "      <th>Math</th>\n",
       "      <th>Total</th>\n",
       "    </tr>\n",
       "  </thead>\n",
       "  <tbody>\n",
       "    <tr>\n",
       "      <th>0</th>\n",
       "      <td>Alabama</td>\n",
       "      <td>5%</td>\n",
       "      <td>593</td>\n",
       "      <td>572</td>\n",
       "      <td>1165</td>\n",
       "    </tr>\n",
       "    <tr>\n",
       "      <th>1</th>\n",
       "      <td>Alaska</td>\n",
       "      <td>38%</td>\n",
       "      <td>547</td>\n",
       "      <td>533</td>\n",
       "      <td>1080</td>\n",
       "    </tr>\n",
       "    <tr>\n",
       "      <th>2</th>\n",
       "      <td>Arizona</td>\n",
       "      <td>30%</td>\n",
       "      <td>563</td>\n",
       "      <td>553</td>\n",
       "      <td>1116</td>\n",
       "    </tr>\n",
       "    <tr>\n",
       "      <th>3</th>\n",
       "      <td>Arkansas</td>\n",
       "      <td>3%</td>\n",
       "      <td>614</td>\n",
       "      <td>594</td>\n",
       "      <td>1208</td>\n",
       "    </tr>\n",
       "    <tr>\n",
       "      <th>4</th>\n",
       "      <td>California</td>\n",
       "      <td>53%</td>\n",
       "      <td>531</td>\n",
       "      <td>524</td>\n",
       "      <td>1055</td>\n",
       "    </tr>\n",
       "    <tr>\n",
       "      <th>5</th>\n",
       "      <td>Colorado</td>\n",
       "      <td>11%</td>\n",
       "      <td>606</td>\n",
       "      <td>595</td>\n",
       "      <td>1201</td>\n",
       "    </tr>\n",
       "    <tr>\n",
       "      <th>6</th>\n",
       "      <td>Connecticut</td>\n",
       "      <td>100%</td>\n",
       "      <td>530</td>\n",
       "      <td>512</td>\n",
       "      <td>1041</td>\n",
       "    </tr>\n",
       "    <tr>\n",
       "      <th>7</th>\n",
       "      <td>Delaware</td>\n",
       "      <td>100%</td>\n",
       "      <td>503</td>\n",
       "      <td>492</td>\n",
       "      <td>996</td>\n",
       "    </tr>\n",
       "    <tr>\n",
       "      <th>8</th>\n",
       "      <td>District of Columbia</td>\n",
       "      <td>100%</td>\n",
       "      <td>482</td>\n",
       "      <td>468</td>\n",
       "      <td>950</td>\n",
       "    </tr>\n",
       "    <tr>\n",
       "      <th>9</th>\n",
       "      <td>Florida</td>\n",
       "      <td>83%</td>\n",
       "      <td>520</td>\n",
       "      <td>497</td>\n",
       "      <td>1017</td>\n",
       "    </tr>\n",
       "  </tbody>\n",
       "</table>\n",
       "</div>"
      ],
      "text/plain": [
       "                  State Participation  Evidence-Based Reading and Writing  \\\n",
       "0               Alabama            5%                                 593   \n",
       "1                Alaska           38%                                 547   \n",
       "2               Arizona           30%                                 563   \n",
       "3              Arkansas            3%                                 614   \n",
       "4            California           53%                                 531   \n",
       "5              Colorado           11%                                 606   \n",
       "6           Connecticut          100%                                 530   \n",
       "7              Delaware          100%                                 503   \n",
       "8  District of Columbia          100%                                 482   \n",
       "9               Florida           83%                                 520   \n",
       "\n",
       "   Math  Total  \n",
       "0   572   1165  \n",
       "1   533   1080  \n",
       "2   553   1116  \n",
       "3   594   1208  \n",
       "4   524   1055  \n",
       "5   595   1201  \n",
       "6   512   1041  \n",
       "7   492    996  \n",
       "8   468    950  \n",
       "9   497   1017  "
      ]
     },
     "execution_count": 827,
     "metadata": {},
     "output_type": "execute_result"
    }
   ],
   "source": [
    "sat.head(10)"
   ]
  },
  {
   "cell_type": "code",
   "execution_count": 828,
   "metadata": {},
   "outputs": [],
   "source": [
    "act = act.drop(['Unnamed: 0'], axis=1)"
   ]
  },
  {
   "cell_type": "code",
   "execution_count": 829,
   "metadata": {},
   "outputs": [
    {
     "data": {
      "text/html": [
       "<div>\n",
       "<style scoped>\n",
       "    .dataframe tbody tr th:only-of-type {\n",
       "        vertical-align: middle;\n",
       "    }\n",
       "\n",
       "    .dataframe tbody tr th {\n",
       "        vertical-align: top;\n",
       "    }\n",
       "\n",
       "    .dataframe thead th {\n",
       "        text-align: right;\n",
       "    }\n",
       "</style>\n",
       "<table border=\"1\" class=\"dataframe\">\n",
       "  <thead>\n",
       "    <tr style=\"text-align: right;\">\n",
       "      <th></th>\n",
       "      <th>State</th>\n",
       "      <th>Participation</th>\n",
       "      <th>English</th>\n",
       "      <th>Math</th>\n",
       "      <th>Reading</th>\n",
       "      <th>Science</th>\n",
       "      <th>Composite</th>\n",
       "    </tr>\n",
       "  </thead>\n",
       "  <tbody>\n",
       "    <tr>\n",
       "      <th>0</th>\n",
       "      <td>National</td>\n",
       "      <td>60%</td>\n",
       "      <td>20.3</td>\n",
       "      <td>20.7</td>\n",
       "      <td>21.4</td>\n",
       "      <td>21.0</td>\n",
       "      <td>21.0</td>\n",
       "    </tr>\n",
       "    <tr>\n",
       "      <th>1</th>\n",
       "      <td>Alabama</td>\n",
       "      <td>100%</td>\n",
       "      <td>18.9</td>\n",
       "      <td>18.4</td>\n",
       "      <td>19.7</td>\n",
       "      <td>19.4</td>\n",
       "      <td>19.2</td>\n",
       "    </tr>\n",
       "    <tr>\n",
       "      <th>2</th>\n",
       "      <td>Alaska</td>\n",
       "      <td>65%</td>\n",
       "      <td>18.7</td>\n",
       "      <td>19.8</td>\n",
       "      <td>20.4</td>\n",
       "      <td>19.9</td>\n",
       "      <td>19.8</td>\n",
       "    </tr>\n",
       "    <tr>\n",
       "      <th>3</th>\n",
       "      <td>Arizona</td>\n",
       "      <td>62%</td>\n",
       "      <td>18.6</td>\n",
       "      <td>19.8</td>\n",
       "      <td>20.1</td>\n",
       "      <td>19.8</td>\n",
       "      <td>19.7</td>\n",
       "    </tr>\n",
       "    <tr>\n",
       "      <th>4</th>\n",
       "      <td>Arkansas</td>\n",
       "      <td>100%</td>\n",
       "      <td>18.9</td>\n",
       "      <td>19.0</td>\n",
       "      <td>19.7</td>\n",
       "      <td>19.5</td>\n",
       "      <td>19.4</td>\n",
       "    </tr>\n",
       "    <tr>\n",
       "      <th>5</th>\n",
       "      <td>California</td>\n",
       "      <td>31%</td>\n",
       "      <td>22.5</td>\n",
       "      <td>22.7</td>\n",
       "      <td>23.1</td>\n",
       "      <td>22.2</td>\n",
       "      <td>22.8</td>\n",
       "    </tr>\n",
       "    <tr>\n",
       "      <th>6</th>\n",
       "      <td>Colorado</td>\n",
       "      <td>100%</td>\n",
       "      <td>20.1</td>\n",
       "      <td>20.3</td>\n",
       "      <td>21.2</td>\n",
       "      <td>20.9</td>\n",
       "      <td>20.8</td>\n",
       "    </tr>\n",
       "    <tr>\n",
       "      <th>7</th>\n",
       "      <td>Connecticut</td>\n",
       "      <td>31%</td>\n",
       "      <td>25.5</td>\n",
       "      <td>24.6</td>\n",
       "      <td>25.6</td>\n",
       "      <td>24.6</td>\n",
       "      <td>25.2</td>\n",
       "    </tr>\n",
       "    <tr>\n",
       "      <th>8</th>\n",
       "      <td>Delaware</td>\n",
       "      <td>18%</td>\n",
       "      <td>24.1</td>\n",
       "      <td>23.4</td>\n",
       "      <td>24.8</td>\n",
       "      <td>23.6</td>\n",
       "      <td>24.1</td>\n",
       "    </tr>\n",
       "    <tr>\n",
       "      <th>9</th>\n",
       "      <td>District of Columbia</td>\n",
       "      <td>32%</td>\n",
       "      <td>24.4</td>\n",
       "      <td>23.5</td>\n",
       "      <td>24.9</td>\n",
       "      <td>23.5</td>\n",
       "      <td>24.2</td>\n",
       "    </tr>\n",
       "  </tbody>\n",
       "</table>\n",
       "</div>"
      ],
      "text/plain": [
       "                  State Participation  English  Math  Reading  Science  \\\n",
       "0              National           60%     20.3  20.7     21.4     21.0   \n",
       "1               Alabama          100%     18.9  18.4     19.7     19.4   \n",
       "2                Alaska           65%     18.7  19.8     20.4     19.9   \n",
       "3               Arizona           62%     18.6  19.8     20.1     19.8   \n",
       "4              Arkansas          100%     18.9  19.0     19.7     19.5   \n",
       "5            California           31%     22.5  22.7     23.1     22.2   \n",
       "6              Colorado          100%     20.1  20.3     21.2     20.9   \n",
       "7           Connecticut           31%     25.5  24.6     25.6     24.6   \n",
       "8              Delaware           18%     24.1  23.4     24.8     23.6   \n",
       "9  District of Columbia           32%     24.4  23.5     24.9     23.5   \n",
       "\n",
       "   Composite  \n",
       "0       21.0  \n",
       "1       19.2  \n",
       "2       19.8  \n",
       "3       19.7  \n",
       "4       19.4  \n",
       "5       22.8  \n",
       "6       20.8  \n",
       "7       25.2  \n",
       "8       24.1  \n",
       "9       24.2  "
      ]
     },
     "execution_count": 829,
     "metadata": {},
     "output_type": "execute_result"
    }
   ],
   "source": [
    "act.head(10)"
   ]
  },
  {
   "cell_type": "markdown",
   "metadata": {},
   "source": [
    "##### 3. Describe in words what each variable (column) is."
   ]
  },
  {
   "cell_type": "code",
   "execution_count": null,
   "metadata": {},
   "outputs": [],
   "source": []
  },
  {
   "cell_type": "code",
   "execution_count": 830,
   "metadata": {},
   "outputs": [],
   "source": [
    "# state is the state \n",
    "# participation is is the percent of eligiable people in that took the test\n",
    "# average score for english section\n",
    "# average score for math section\n",
    "# average score for reading section\n",
    "# average score for science section\n",
    "# average score for composite section"
   ]
  },
  {
   "cell_type": "markdown",
   "metadata": {},
   "source": [
    "##### 4. Does the data look complete? Are there any obvious issues with the observations?"
   ]
  },
  {
   "cell_type": "code",
   "execution_count": 831,
   "metadata": {
    "scrolled": true
   },
   "outputs": [
    {
     "data": {
      "text/plain": [
       "State            0\n",
       "Participation    0\n",
       "English          0\n",
       "Math             0\n",
       "Reading          0\n",
       "Science          0\n",
       "Composite        0\n",
       "dtype: int64"
      ]
     },
     "execution_count": 831,
     "metadata": {},
     "output_type": "execute_result"
    }
   ],
   "source": [
    "act.isnull().sum() # no values for either null or na - dataset looks complete "
   ]
  },
  {
   "cell_type": "code",
   "execution_count": 832,
   "metadata": {},
   "outputs": [
    {
     "data": {
      "text/plain": [
       "State                                 0\n",
       "Participation                         0\n",
       "Evidence-Based Reading and Writing    0\n",
       "Math                                  0\n",
       "Total                                 0\n",
       "dtype: int64"
      ]
     },
     "execution_count": 832,
     "metadata": {},
     "output_type": "execute_result"
    }
   ],
   "source": [
    "sat.isnull().sum() # no values for either null or na - dataset looks complete"
   ]
  },
  {
   "cell_type": "markdown",
   "metadata": {},
   "source": [
    "##### 5. Print the types of each column."
   ]
  },
  {
   "cell_type": "code",
   "execution_count": 833,
   "metadata": {
    "scrolled": true
   },
   "outputs": [
    {
     "name": "stdout",
     "output_type": "stream",
     "text": [
      "object\n",
      "object\n",
      "float64\n",
      "float64\n",
      "float64\n",
      "float64\n",
      "float64\n"
     ]
    }
   ],
   "source": [
    "print(np.dtype(act[\"State\"]))\n",
    "print(np.dtype(act[\"Participation\"]))\n",
    "print(np.dtype(act[\"English\"]))\n",
    "print(np.dtype(act[\"Math\"]))\n",
    "print(np.dtype(act[\"Reading\"]))\n",
    "print(np.dtype(act[\"Science\"]))\n",
    "print(np.dtype(act[\"Composite\"]))"
   ]
  },
  {
   "cell_type": "code",
   "execution_count": 834,
   "metadata": {},
   "outputs": [
    {
     "name": "stdout",
     "output_type": "stream",
     "text": [
      "object\n",
      "object\n",
      "int64\n",
      "int64\n",
      "int64\n"
     ]
    }
   ],
   "source": [
    "print(np.dtype(sat[\"State\"]))\n",
    "print(np.dtype(sat[\"Participation\"]))\n",
    "print(np.dtype(sat[\"Evidence-Based Reading and Writing\"]))\n",
    "print(np.dtype(sat[\"Math\"]))\n",
    "print(np.dtype(sat[\"Total\"]))\n",
    "#State\tParticipation\tEvidence-Based Reading and Writing\tMath\tTotal"
   ]
  },
  {
   "cell_type": "markdown",
   "metadata": {},
   "source": [
    "##### 6. Do any types need to be reassigned? If so, go ahead and do it."
   ]
  },
  {
   "cell_type": "code",
   "execution_count": 835,
   "metadata": {
    "scrolled": false
   },
   "outputs": [],
   "source": [
    "#participation should be a float\n",
    "#act1 = act['Participation'].to_replace('%', '')\n",
    "act['Participation'] = act['Participation'].map(lambda dis_cell: float(dis_cell.replace('%','')))"
   ]
  },
  {
   "cell_type": "code",
   "execution_count": 836,
   "metadata": {},
   "outputs": [
    {
     "data": {
      "text/plain": [
       "State             object\n",
       "Participation    float64\n",
       "English          float64\n",
       "Math             float64\n",
       "Reading          float64\n",
       "Science          float64\n",
       "Composite        float64\n",
       "dtype: object"
      ]
     },
     "execution_count": 836,
     "metadata": {},
     "output_type": "execute_result"
    }
   ],
   "source": [
    "act.dtypes"
   ]
  },
  {
   "cell_type": "code",
   "execution_count": 837,
   "metadata": {},
   "outputs": [],
   "source": [
    "sat['Participation'] = sat['Participation'].map(lambda dis_cell: float(dis_cell.replace('%','')))"
   ]
  },
  {
   "cell_type": "code",
   "execution_count": 838,
   "metadata": {
    "scrolled": true
   },
   "outputs": [
    {
     "data": {
      "text/plain": [
       "State                                  object\n",
       "Participation                         float64\n",
       "Evidence-Based Reading and Writing      int64\n",
       "Math                                    int64\n",
       "Total                                   int64\n",
       "dtype: object"
      ]
     },
     "execution_count": 838,
     "metadata": {},
     "output_type": "execute_result"
    }
   ],
   "source": [
    "sat.head().dtypes"
   ]
  },
  {
   "cell_type": "markdown",
   "metadata": {},
   "source": [
    "##### 7. Create a dictionary for each column mapping the State to its respective value for that column. (For example, you should have three SAT dictionaries.)"
   ]
  },
  {
   "cell_type": "code",
   "execution_count": 839,
   "metadata": {
    "scrolled": false
   },
   "outputs": [],
   "source": [
    "sat_math = {}\n",
    "for i in sat:\n",
    "    sat_math = dict(zip(sat['State'],sat['Math']))"
   ]
  },
  {
   "cell_type": "code",
   "execution_count": 840,
   "metadata": {},
   "outputs": [],
   "source": [
    "sat_Evidence_Based_Reading_Writing = {}\n",
    "for i in sat:\n",
    "    sat_Evidence_Based_Reading_Writing = dict(zip(sat['State'],sat['Evidence-Based Reading and Writing']))"
   ]
  },
  {
   "cell_type": "code",
   "execution_count": 841,
   "metadata": {},
   "outputs": [],
   "source": [
    "sat_total = {}\n",
    "for i in sat:\n",
    "    sat_total = dict(zip(sat['State'],sat['Total']))"
   ]
  },
  {
   "cell_type": "code",
   "execution_count": 842,
   "metadata": {},
   "outputs": [],
   "source": [
    "#sat['Total'].value_counts()"
   ]
  },
  {
   "cell_type": "code",
   "execution_count": 843,
   "metadata": {},
   "outputs": [
    {
     "data": {
      "text/plain": [
       "State             object\n",
       "Participation    float64\n",
       "English          float64\n",
       "Math             float64\n",
       "Reading          float64\n",
       "Science          float64\n",
       "Composite        float64\n",
       "dtype: object"
      ]
     },
     "execution_count": 843,
     "metadata": {},
     "output_type": "execute_result"
    }
   ],
   "source": [
    "act.head().dtypes"
   ]
  },
  {
   "cell_type": "code",
   "execution_count": 844,
   "metadata": {},
   "outputs": [],
   "source": [
    "act_english = {}\n",
    "for i in act:\n",
    "    act_english = dict(zip(act['State'],act['English']))"
   ]
  },
  {
   "cell_type": "code",
   "execution_count": 845,
   "metadata": {},
   "outputs": [],
   "source": [
    "act_math = {}\n",
    "for i in act:\n",
    "    act_math = dict(zip(act['State'],act['Math']))"
   ]
  },
  {
   "cell_type": "code",
   "execution_count": 846,
   "metadata": {},
   "outputs": [],
   "source": [
    "act_reading = {}\n",
    "for i in act:\n",
    "    act_reading = dict(zip(act['State'],act['Reading']))"
   ]
  },
  {
   "cell_type": "code",
   "execution_count": 847,
   "metadata": {},
   "outputs": [],
   "source": [
    "act_science = {}\n",
    "for i in act:\n",
    "    act_science = dict(zip(act['State'],act['Science']))"
   ]
  },
  {
   "cell_type": "code",
   "execution_count": 848,
   "metadata": {},
   "outputs": [],
   "source": [
    "act_composite = {}\n",
    "for i in act:\n",
    "    act_composite = dict(zip(act['State'],act['Composite']))"
   ]
  },
  {
   "cell_type": "markdown",
   "metadata": {},
   "source": [
    "##### 8. Create one dictionary where each key is the column name, and each value is an iterable (a list or a Pandas Series) of all the values in that column."
   ]
  },
  {
   "cell_type": "code",
   "execution_count": 849,
   "metadata": {
    "scrolled": true
   },
   "outputs": [
    {
     "data": {
      "text/html": [
       "<div>\n",
       "<style scoped>\n",
       "    .dataframe tbody tr th:only-of-type {\n",
       "        vertical-align: middle;\n",
       "    }\n",
       "\n",
       "    .dataframe tbody tr th {\n",
       "        vertical-align: top;\n",
       "    }\n",
       "\n",
       "    .dataframe thead th {\n",
       "        text-align: right;\n",
       "    }\n",
       "</style>\n",
       "<table border=\"1\" class=\"dataframe\">\n",
       "  <thead>\n",
       "    <tr style=\"text-align: right;\">\n",
       "      <th></th>\n",
       "      <th>State</th>\n",
       "      <th>Participation</th>\n",
       "      <th>Evidence-Based Reading and Writing</th>\n",
       "      <th>Math</th>\n",
       "      <th>Total</th>\n",
       "    </tr>\n",
       "  </thead>\n",
       "  <tbody>\n",
       "    <tr>\n",
       "      <th>0</th>\n",
       "      <td>Alabama</td>\n",
       "      <td>5.0</td>\n",
       "      <td>593</td>\n",
       "      <td>572</td>\n",
       "      <td>1165</td>\n",
       "    </tr>\n",
       "    <tr>\n",
       "      <th>1</th>\n",
       "      <td>Alaska</td>\n",
       "      <td>38.0</td>\n",
       "      <td>547</td>\n",
       "      <td>533</td>\n",
       "      <td>1080</td>\n",
       "    </tr>\n",
       "    <tr>\n",
       "      <th>2</th>\n",
       "      <td>Arizona</td>\n",
       "      <td>30.0</td>\n",
       "      <td>563</td>\n",
       "      <td>553</td>\n",
       "      <td>1116</td>\n",
       "    </tr>\n",
       "    <tr>\n",
       "      <th>3</th>\n",
       "      <td>Arkansas</td>\n",
       "      <td>3.0</td>\n",
       "      <td>614</td>\n",
       "      <td>594</td>\n",
       "      <td>1208</td>\n",
       "    </tr>\n",
       "    <tr>\n",
       "      <th>4</th>\n",
       "      <td>California</td>\n",
       "      <td>53.0</td>\n",
       "      <td>531</td>\n",
       "      <td>524</td>\n",
       "      <td>1055</td>\n",
       "    </tr>\n",
       "  </tbody>\n",
       "</table>\n",
       "</div>"
      ],
      "text/plain": [
       "        State  Participation  Evidence-Based Reading and Writing  Math  Total\n",
       "0     Alabama            5.0                                 593   572   1165\n",
       "1      Alaska           38.0                                 547   533   1080\n",
       "2     Arizona           30.0                                 563   553   1116\n",
       "3    Arkansas            3.0                                 614   594   1208\n",
       "4  California           53.0                                 531   524   1055"
      ]
     },
     "execution_count": 849,
     "metadata": {},
     "output_type": "execute_result"
    }
   ],
   "source": [
    "sat.head()"
   ]
  },
  {
   "cell_type": "code",
   "execution_count": 850,
   "metadata": {},
   "outputs": [],
   "source": [
    "new_dict = {}\n",
    "for c in act.columns:\n",
    "    new_dict.update({c: act[c]})\n",
    "\n",
    "#act one\n"
   ]
  },
  {
   "cell_type": "code",
   "execution_count": 851,
   "metadata": {},
   "outputs": [],
   "source": [
    "new_dicts = {}\n",
    "for c in sat.columns:\n",
    "    new_dicts.update({c: sat[c]})\n",
    "\n",
    "#sat one"
   ]
  },
  {
   "cell_type": "markdown",
   "metadata": {},
   "source": [
    "##### 9. Merge the dataframes on the state column."
   ]
  },
  {
   "cell_type": "code",
   "execution_count": 852,
   "metadata": {},
   "outputs": [
    {
     "data": {
      "text/plain": [
       "18.0"
      ]
     },
     "execution_count": 852,
     "metadata": {},
     "output_type": "execute_result"
    }
   ],
   "source": [
    "act['Math'].min()"
   ]
  },
  {
   "cell_type": "code",
   "execution_count": 853,
   "metadata": {},
   "outputs": [],
   "source": [
    " combined = pd.merge(act,sat, on='State')"
   ]
  },
  {
   "cell_type": "markdown",
   "metadata": {},
   "source": [
    "##### 10. Change the names of the columns so you can distinguish between the SAT columns and the ACT columns."
   ]
  },
  {
   "cell_type": "code",
   "execution_count": 854,
   "metadata": {},
   "outputs": [
    {
     "data": {
      "text/html": [
       "<div>\n",
       "<style scoped>\n",
       "    .dataframe tbody tr th:only-of-type {\n",
       "        vertical-align: middle;\n",
       "    }\n",
       "\n",
       "    .dataframe tbody tr th {\n",
       "        vertical-align: top;\n",
       "    }\n",
       "\n",
       "    .dataframe thead th {\n",
       "        text-align: right;\n",
       "    }\n",
       "</style>\n",
       "<table border=\"1\" class=\"dataframe\">\n",
       "  <thead>\n",
       "    <tr style=\"text-align: right;\">\n",
       "      <th></th>\n",
       "      <th>State</th>\n",
       "      <th>Participation_x</th>\n",
       "      <th>English</th>\n",
       "      <th>Math_x</th>\n",
       "      <th>Reading</th>\n",
       "      <th>Science</th>\n",
       "      <th>Composite</th>\n",
       "      <th>Participation_y</th>\n",
       "      <th>Evidence-Based Reading and Writing</th>\n",
       "      <th>Math_y</th>\n",
       "      <th>Total</th>\n",
       "    </tr>\n",
       "  </thead>\n",
       "  <tbody>\n",
       "    <tr>\n",
       "      <th>0</th>\n",
       "      <td>Alabama</td>\n",
       "      <td>100.0</td>\n",
       "      <td>18.9</td>\n",
       "      <td>18.4</td>\n",
       "      <td>19.7</td>\n",
       "      <td>19.4</td>\n",
       "      <td>19.2</td>\n",
       "      <td>5.0</td>\n",
       "      <td>593</td>\n",
       "      <td>572</td>\n",
       "      <td>1165</td>\n",
       "    </tr>\n",
       "    <tr>\n",
       "      <th>1</th>\n",
       "      <td>Alaska</td>\n",
       "      <td>65.0</td>\n",
       "      <td>18.7</td>\n",
       "      <td>19.8</td>\n",
       "      <td>20.4</td>\n",
       "      <td>19.9</td>\n",
       "      <td>19.8</td>\n",
       "      <td>38.0</td>\n",
       "      <td>547</td>\n",
       "      <td>533</td>\n",
       "      <td>1080</td>\n",
       "    </tr>\n",
       "    <tr>\n",
       "      <th>2</th>\n",
       "      <td>Arizona</td>\n",
       "      <td>62.0</td>\n",
       "      <td>18.6</td>\n",
       "      <td>19.8</td>\n",
       "      <td>20.1</td>\n",
       "      <td>19.8</td>\n",
       "      <td>19.7</td>\n",
       "      <td>30.0</td>\n",
       "      <td>563</td>\n",
       "      <td>553</td>\n",
       "      <td>1116</td>\n",
       "    </tr>\n",
       "    <tr>\n",
       "      <th>3</th>\n",
       "      <td>Arkansas</td>\n",
       "      <td>100.0</td>\n",
       "      <td>18.9</td>\n",
       "      <td>19.0</td>\n",
       "      <td>19.7</td>\n",
       "      <td>19.5</td>\n",
       "      <td>19.4</td>\n",
       "      <td>3.0</td>\n",
       "      <td>614</td>\n",
       "      <td>594</td>\n",
       "      <td>1208</td>\n",
       "    </tr>\n",
       "    <tr>\n",
       "      <th>4</th>\n",
       "      <td>California</td>\n",
       "      <td>31.0</td>\n",
       "      <td>22.5</td>\n",
       "      <td>22.7</td>\n",
       "      <td>23.1</td>\n",
       "      <td>22.2</td>\n",
       "      <td>22.8</td>\n",
       "      <td>53.0</td>\n",
       "      <td>531</td>\n",
       "      <td>524</td>\n",
       "      <td>1055</td>\n",
       "    </tr>\n",
       "    <tr>\n",
       "      <th>5</th>\n",
       "      <td>Colorado</td>\n",
       "      <td>100.0</td>\n",
       "      <td>20.1</td>\n",
       "      <td>20.3</td>\n",
       "      <td>21.2</td>\n",
       "      <td>20.9</td>\n",
       "      <td>20.8</td>\n",
       "      <td>11.0</td>\n",
       "      <td>606</td>\n",
       "      <td>595</td>\n",
       "      <td>1201</td>\n",
       "    </tr>\n",
       "    <tr>\n",
       "      <th>6</th>\n",
       "      <td>Connecticut</td>\n",
       "      <td>31.0</td>\n",
       "      <td>25.5</td>\n",
       "      <td>24.6</td>\n",
       "      <td>25.6</td>\n",
       "      <td>24.6</td>\n",
       "      <td>25.2</td>\n",
       "      <td>100.0</td>\n",
       "      <td>530</td>\n",
       "      <td>512</td>\n",
       "      <td>1041</td>\n",
       "    </tr>\n",
       "    <tr>\n",
       "      <th>7</th>\n",
       "      <td>Delaware</td>\n",
       "      <td>18.0</td>\n",
       "      <td>24.1</td>\n",
       "      <td>23.4</td>\n",
       "      <td>24.8</td>\n",
       "      <td>23.6</td>\n",
       "      <td>24.1</td>\n",
       "      <td>100.0</td>\n",
       "      <td>503</td>\n",
       "      <td>492</td>\n",
       "      <td>996</td>\n",
       "    </tr>\n",
       "    <tr>\n",
       "      <th>8</th>\n",
       "      <td>District of Columbia</td>\n",
       "      <td>32.0</td>\n",
       "      <td>24.4</td>\n",
       "      <td>23.5</td>\n",
       "      <td>24.9</td>\n",
       "      <td>23.5</td>\n",
       "      <td>24.2</td>\n",
       "      <td>100.0</td>\n",
       "      <td>482</td>\n",
       "      <td>468</td>\n",
       "      <td>950</td>\n",
       "    </tr>\n",
       "    <tr>\n",
       "      <th>9</th>\n",
       "      <td>Florida</td>\n",
       "      <td>73.0</td>\n",
       "      <td>19.0</td>\n",
       "      <td>19.4</td>\n",
       "      <td>21.0</td>\n",
       "      <td>19.4</td>\n",
       "      <td>19.8</td>\n",
       "      <td>83.0</td>\n",
       "      <td>520</td>\n",
       "      <td>497</td>\n",
       "      <td>1017</td>\n",
       "    </tr>\n",
       "    <tr>\n",
       "      <th>10</th>\n",
       "      <td>Georgia</td>\n",
       "      <td>55.0</td>\n",
       "      <td>21.0</td>\n",
       "      <td>20.9</td>\n",
       "      <td>22.0</td>\n",
       "      <td>21.3</td>\n",
       "      <td>21.4</td>\n",
       "      <td>61.0</td>\n",
       "      <td>535</td>\n",
       "      <td>515</td>\n",
       "      <td>1050</td>\n",
       "    </tr>\n",
       "    <tr>\n",
       "      <th>11</th>\n",
       "      <td>Hawaii</td>\n",
       "      <td>90.0</td>\n",
       "      <td>17.8</td>\n",
       "      <td>19.2</td>\n",
       "      <td>19.2</td>\n",
       "      <td>19.3</td>\n",
       "      <td>19.0</td>\n",
       "      <td>55.0</td>\n",
       "      <td>544</td>\n",
       "      <td>541</td>\n",
       "      <td>1085</td>\n",
       "    </tr>\n",
       "    <tr>\n",
       "      <th>12</th>\n",
       "      <td>Idaho</td>\n",
       "      <td>38.0</td>\n",
       "      <td>21.9</td>\n",
       "      <td>21.8</td>\n",
       "      <td>23.0</td>\n",
       "      <td>22.1</td>\n",
       "      <td>22.3</td>\n",
       "      <td>93.0</td>\n",
       "      <td>513</td>\n",
       "      <td>493</td>\n",
       "      <td>1005</td>\n",
       "    </tr>\n",
       "    <tr>\n",
       "      <th>13</th>\n",
       "      <td>Illinois</td>\n",
       "      <td>93.0</td>\n",
       "      <td>21.0</td>\n",
       "      <td>21.2</td>\n",
       "      <td>21.6</td>\n",
       "      <td>21.3</td>\n",
       "      <td>21.4</td>\n",
       "      <td>9.0</td>\n",
       "      <td>559</td>\n",
       "      <td>556</td>\n",
       "      <td>1115</td>\n",
       "    </tr>\n",
       "    <tr>\n",
       "      <th>14</th>\n",
       "      <td>Indiana</td>\n",
       "      <td>35.0</td>\n",
       "      <td>22.0</td>\n",
       "      <td>22.4</td>\n",
       "      <td>23.2</td>\n",
       "      <td>22.3</td>\n",
       "      <td>22.6</td>\n",
       "      <td>63.0</td>\n",
       "      <td>542</td>\n",
       "      <td>532</td>\n",
       "      <td>1074</td>\n",
       "    </tr>\n",
       "    <tr>\n",
       "      <th>15</th>\n",
       "      <td>Iowa</td>\n",
       "      <td>67.0</td>\n",
       "      <td>21.2</td>\n",
       "      <td>21.3</td>\n",
       "      <td>22.6</td>\n",
       "      <td>22.1</td>\n",
       "      <td>21.9</td>\n",
       "      <td>2.0</td>\n",
       "      <td>641</td>\n",
       "      <td>635</td>\n",
       "      <td>1275</td>\n",
       "    </tr>\n",
       "    <tr>\n",
       "      <th>16</th>\n",
       "      <td>Kansas</td>\n",
       "      <td>73.0</td>\n",
       "      <td>21.1</td>\n",
       "      <td>21.3</td>\n",
       "      <td>22.3</td>\n",
       "      <td>21.7</td>\n",
       "      <td>21.7</td>\n",
       "      <td>4.0</td>\n",
       "      <td>632</td>\n",
       "      <td>628</td>\n",
       "      <td>1260</td>\n",
       "    </tr>\n",
       "    <tr>\n",
       "      <th>17</th>\n",
       "      <td>Kentucky</td>\n",
       "      <td>100.0</td>\n",
       "      <td>19.6</td>\n",
       "      <td>19.4</td>\n",
       "      <td>20.5</td>\n",
       "      <td>20.1</td>\n",
       "      <td>20.0</td>\n",
       "      <td>4.0</td>\n",
       "      <td>631</td>\n",
       "      <td>616</td>\n",
       "      <td>1247</td>\n",
       "    </tr>\n",
       "    <tr>\n",
       "      <th>18</th>\n",
       "      <td>Louisiana</td>\n",
       "      <td>100.0</td>\n",
       "      <td>19.4</td>\n",
       "      <td>18.8</td>\n",
       "      <td>19.8</td>\n",
       "      <td>19.6</td>\n",
       "      <td>19.5</td>\n",
       "      <td>4.0</td>\n",
       "      <td>611</td>\n",
       "      <td>586</td>\n",
       "      <td>1198</td>\n",
       "    </tr>\n",
       "    <tr>\n",
       "      <th>19</th>\n",
       "      <td>Maine</td>\n",
       "      <td>8.0</td>\n",
       "      <td>24.2</td>\n",
       "      <td>24.0</td>\n",
       "      <td>24.8</td>\n",
       "      <td>23.7</td>\n",
       "      <td>24.3</td>\n",
       "      <td>95.0</td>\n",
       "      <td>513</td>\n",
       "      <td>499</td>\n",
       "      <td>1012</td>\n",
       "    </tr>\n",
       "    <tr>\n",
       "      <th>20</th>\n",
       "      <td>Maryland</td>\n",
       "      <td>28.0</td>\n",
       "      <td>23.3</td>\n",
       "      <td>23.1</td>\n",
       "      <td>24.2</td>\n",
       "      <td>2.3</td>\n",
       "      <td>23.6</td>\n",
       "      <td>69.0</td>\n",
       "      <td>536</td>\n",
       "      <td>52</td>\n",
       "      <td>1060</td>\n",
       "    </tr>\n",
       "    <tr>\n",
       "      <th>21</th>\n",
       "      <td>Massachusetts</td>\n",
       "      <td>29.0</td>\n",
       "      <td>25.4</td>\n",
       "      <td>25.3</td>\n",
       "      <td>25.9</td>\n",
       "      <td>24.7</td>\n",
       "      <td>25.4</td>\n",
       "      <td>76.0</td>\n",
       "      <td>555</td>\n",
       "      <td>551</td>\n",
       "      <td>1107</td>\n",
       "    </tr>\n",
       "    <tr>\n",
       "      <th>22</th>\n",
       "      <td>Michigan</td>\n",
       "      <td>29.0</td>\n",
       "      <td>24.1</td>\n",
       "      <td>23.7</td>\n",
       "      <td>24.5</td>\n",
       "      <td>23.8</td>\n",
       "      <td>24.1</td>\n",
       "      <td>100.0</td>\n",
       "      <td>509</td>\n",
       "      <td>495</td>\n",
       "      <td>1005</td>\n",
       "    </tr>\n",
       "    <tr>\n",
       "      <th>23</th>\n",
       "      <td>Minnesota</td>\n",
       "      <td>100.0</td>\n",
       "      <td>20.4</td>\n",
       "      <td>21.5</td>\n",
       "      <td>21.8</td>\n",
       "      <td>21.6</td>\n",
       "      <td>21.5</td>\n",
       "      <td>3.0</td>\n",
       "      <td>644</td>\n",
       "      <td>651</td>\n",
       "      <td>1295</td>\n",
       "    </tr>\n",
       "    <tr>\n",
       "      <th>24</th>\n",
       "      <td>Mississippi</td>\n",
       "      <td>100.0</td>\n",
       "      <td>18.2</td>\n",
       "      <td>18.1</td>\n",
       "      <td>18.8</td>\n",
       "      <td>18.8</td>\n",
       "      <td>18.6</td>\n",
       "      <td>2.0</td>\n",
       "      <td>634</td>\n",
       "      <td>607</td>\n",
       "      <td>1242</td>\n",
       "    </tr>\n",
       "    <tr>\n",
       "      <th>25</th>\n",
       "      <td>Missouri</td>\n",
       "      <td>100.0</td>\n",
       "      <td>19.8</td>\n",
       "      <td>19.9</td>\n",
       "      <td>20.8</td>\n",
       "      <td>20.5</td>\n",
       "      <td>20.4</td>\n",
       "      <td>3.0</td>\n",
       "      <td>640</td>\n",
       "      <td>631</td>\n",
       "      <td>1271</td>\n",
       "    </tr>\n",
       "    <tr>\n",
       "      <th>26</th>\n",
       "      <td>Montana</td>\n",
       "      <td>100.0</td>\n",
       "      <td>19.0</td>\n",
       "      <td>20.2</td>\n",
       "      <td>21.0</td>\n",
       "      <td>20.5</td>\n",
       "      <td>20.3</td>\n",
       "      <td>10.0</td>\n",
       "      <td>605</td>\n",
       "      <td>591</td>\n",
       "      <td>1196</td>\n",
       "    </tr>\n",
       "    <tr>\n",
       "      <th>27</th>\n",
       "      <td>Nebraska</td>\n",
       "      <td>84.0</td>\n",
       "      <td>20.9</td>\n",
       "      <td>20.9</td>\n",
       "      <td>21.9</td>\n",
       "      <td>21.5</td>\n",
       "      <td>21.4</td>\n",
       "      <td>3.0</td>\n",
       "      <td>629</td>\n",
       "      <td>625</td>\n",
       "      <td>1253</td>\n",
       "    </tr>\n",
       "    <tr>\n",
       "      <th>28</th>\n",
       "      <td>Nevada</td>\n",
       "      <td>100.0</td>\n",
       "      <td>16.3</td>\n",
       "      <td>18.0</td>\n",
       "      <td>18.1</td>\n",
       "      <td>18.2</td>\n",
       "      <td>17.8</td>\n",
       "      <td>26.0</td>\n",
       "      <td>563</td>\n",
       "      <td>553</td>\n",
       "      <td>1116</td>\n",
       "    </tr>\n",
       "    <tr>\n",
       "      <th>29</th>\n",
       "      <td>New Hampshire</td>\n",
       "      <td>18.0</td>\n",
       "      <td>25.4</td>\n",
       "      <td>25.1</td>\n",
       "      <td>26.0</td>\n",
       "      <td>24.9</td>\n",
       "      <td>25.5</td>\n",
       "      <td>96.0</td>\n",
       "      <td>532</td>\n",
       "      <td>520</td>\n",
       "      <td>1052</td>\n",
       "    </tr>\n",
       "    <tr>\n",
       "      <th>30</th>\n",
       "      <td>New Jersey</td>\n",
       "      <td>34.0</td>\n",
       "      <td>23.8</td>\n",
       "      <td>23.8</td>\n",
       "      <td>24.1</td>\n",
       "      <td>23.2</td>\n",
       "      <td>23.9</td>\n",
       "      <td>70.0</td>\n",
       "      <td>530</td>\n",
       "      <td>526</td>\n",
       "      <td>1056</td>\n",
       "    </tr>\n",
       "    <tr>\n",
       "      <th>31</th>\n",
       "      <td>New Mexico</td>\n",
       "      <td>66.0</td>\n",
       "      <td>18.6</td>\n",
       "      <td>19.4</td>\n",
       "      <td>20.4</td>\n",
       "      <td>20.0</td>\n",
       "      <td>19.7</td>\n",
       "      <td>11.0</td>\n",
       "      <td>577</td>\n",
       "      <td>561</td>\n",
       "      <td>1138</td>\n",
       "    </tr>\n",
       "    <tr>\n",
       "      <th>32</th>\n",
       "      <td>New York</td>\n",
       "      <td>31.0</td>\n",
       "      <td>23.8</td>\n",
       "      <td>24.0</td>\n",
       "      <td>24.6</td>\n",
       "      <td>23.9</td>\n",
       "      <td>24.2</td>\n",
       "      <td>67.0</td>\n",
       "      <td>528</td>\n",
       "      <td>523</td>\n",
       "      <td>1052</td>\n",
       "    </tr>\n",
       "    <tr>\n",
       "      <th>33</th>\n",
       "      <td>North Carolina</td>\n",
       "      <td>100.0</td>\n",
       "      <td>17.8</td>\n",
       "      <td>19.3</td>\n",
       "      <td>19.6</td>\n",
       "      <td>19.3</td>\n",
       "      <td>19.1</td>\n",
       "      <td>49.0</td>\n",
       "      <td>546</td>\n",
       "      <td>535</td>\n",
       "      <td>1081</td>\n",
       "    </tr>\n",
       "    <tr>\n",
       "      <th>34</th>\n",
       "      <td>North Dakota</td>\n",
       "      <td>98.0</td>\n",
       "      <td>19.0</td>\n",
       "      <td>20.4</td>\n",
       "      <td>20.5</td>\n",
       "      <td>20.6</td>\n",
       "      <td>20.3</td>\n",
       "      <td>2.0</td>\n",
       "      <td>635</td>\n",
       "      <td>621</td>\n",
       "      <td>1256</td>\n",
       "    </tr>\n",
       "    <tr>\n",
       "      <th>35</th>\n",
       "      <td>Ohio</td>\n",
       "      <td>75.0</td>\n",
       "      <td>21.2</td>\n",
       "      <td>21.6</td>\n",
       "      <td>22.5</td>\n",
       "      <td>22.0</td>\n",
       "      <td>22.0</td>\n",
       "      <td>12.0</td>\n",
       "      <td>578</td>\n",
       "      <td>570</td>\n",
       "      <td>1149</td>\n",
       "    </tr>\n",
       "    <tr>\n",
       "      <th>36</th>\n",
       "      <td>Oklahoma</td>\n",
       "      <td>100.0</td>\n",
       "      <td>18.5</td>\n",
       "      <td>18.8</td>\n",
       "      <td>20.1</td>\n",
       "      <td>19.6</td>\n",
       "      <td>19.4</td>\n",
       "      <td>7.0</td>\n",
       "      <td>530</td>\n",
       "      <td>517</td>\n",
       "      <td>1047</td>\n",
       "    </tr>\n",
       "    <tr>\n",
       "      <th>37</th>\n",
       "      <td>Oregon</td>\n",
       "      <td>40.0</td>\n",
       "      <td>21.2</td>\n",
       "      <td>21.5</td>\n",
       "      <td>22.4</td>\n",
       "      <td>21.7</td>\n",
       "      <td>21.8</td>\n",
       "      <td>43.0</td>\n",
       "      <td>560</td>\n",
       "      <td>548</td>\n",
       "      <td>1108</td>\n",
       "    </tr>\n",
       "    <tr>\n",
       "      <th>38</th>\n",
       "      <td>Pennsylvania</td>\n",
       "      <td>23.0</td>\n",
       "      <td>23.4</td>\n",
       "      <td>23.4</td>\n",
       "      <td>24.2</td>\n",
       "      <td>23.3</td>\n",
       "      <td>23.7</td>\n",
       "      <td>65.0</td>\n",
       "      <td>540</td>\n",
       "      <td>531</td>\n",
       "      <td>1071</td>\n",
       "    </tr>\n",
       "    <tr>\n",
       "      <th>39</th>\n",
       "      <td>Rhode Island</td>\n",
       "      <td>21.0</td>\n",
       "      <td>24.0</td>\n",
       "      <td>23.3</td>\n",
       "      <td>24.7</td>\n",
       "      <td>23.4</td>\n",
       "      <td>24.0</td>\n",
       "      <td>71.0</td>\n",
       "      <td>539</td>\n",
       "      <td>524</td>\n",
       "      <td>1062</td>\n",
       "    </tr>\n",
       "    <tr>\n",
       "      <th>40</th>\n",
       "      <td>South Carolina</td>\n",
       "      <td>100.0</td>\n",
       "      <td>17.5</td>\n",
       "      <td>18.6</td>\n",
       "      <td>19.1</td>\n",
       "      <td>18.9</td>\n",
       "      <td>18.7</td>\n",
       "      <td>50.0</td>\n",
       "      <td>543</td>\n",
       "      <td>521</td>\n",
       "      <td>1064</td>\n",
       "    </tr>\n",
       "    <tr>\n",
       "      <th>41</th>\n",
       "      <td>South Dakota</td>\n",
       "      <td>80.0</td>\n",
       "      <td>20.7</td>\n",
       "      <td>21.5</td>\n",
       "      <td>22.3</td>\n",
       "      <td>22.0</td>\n",
       "      <td>21.8</td>\n",
       "      <td>3.0</td>\n",
       "      <td>612</td>\n",
       "      <td>603</td>\n",
       "      <td>1216</td>\n",
       "    </tr>\n",
       "    <tr>\n",
       "      <th>42</th>\n",
       "      <td>Tennessee</td>\n",
       "      <td>100.0</td>\n",
       "      <td>19.5</td>\n",
       "      <td>19.2</td>\n",
       "      <td>20.1</td>\n",
       "      <td>19.9</td>\n",
       "      <td>19.8</td>\n",
       "      <td>5.0</td>\n",
       "      <td>623</td>\n",
       "      <td>604</td>\n",
       "      <td>1228</td>\n",
       "    </tr>\n",
       "    <tr>\n",
       "      <th>43</th>\n",
       "      <td>Texas</td>\n",
       "      <td>45.0</td>\n",
       "      <td>19.5</td>\n",
       "      <td>20.7</td>\n",
       "      <td>21.1</td>\n",
       "      <td>20.9</td>\n",
       "      <td>20.7</td>\n",
       "      <td>62.0</td>\n",
       "      <td>513</td>\n",
       "      <td>507</td>\n",
       "      <td>1020</td>\n",
       "    </tr>\n",
       "    <tr>\n",
       "      <th>44</th>\n",
       "      <td>Utah</td>\n",
       "      <td>100.0</td>\n",
       "      <td>19.5</td>\n",
       "      <td>19.9</td>\n",
       "      <td>20.8</td>\n",
       "      <td>20.6</td>\n",
       "      <td>20.3</td>\n",
       "      <td>3.0</td>\n",
       "      <td>624</td>\n",
       "      <td>614</td>\n",
       "      <td>1238</td>\n",
       "    </tr>\n",
       "    <tr>\n",
       "      <th>45</th>\n",
       "      <td>Vermont</td>\n",
       "      <td>29.0</td>\n",
       "      <td>23.3</td>\n",
       "      <td>23.1</td>\n",
       "      <td>24.4</td>\n",
       "      <td>23.2</td>\n",
       "      <td>23.6</td>\n",
       "      <td>60.0</td>\n",
       "      <td>562</td>\n",
       "      <td>551</td>\n",
       "      <td>1114</td>\n",
       "    </tr>\n",
       "    <tr>\n",
       "      <th>46</th>\n",
       "      <td>Virginia</td>\n",
       "      <td>29.0</td>\n",
       "      <td>23.5</td>\n",
       "      <td>23.3</td>\n",
       "      <td>24.6</td>\n",
       "      <td>23.5</td>\n",
       "      <td>23.8</td>\n",
       "      <td>65.0</td>\n",
       "      <td>561</td>\n",
       "      <td>541</td>\n",
       "      <td>1102</td>\n",
       "    </tr>\n",
       "    <tr>\n",
       "      <th>47</th>\n",
       "      <td>Washington</td>\n",
       "      <td>29.0</td>\n",
       "      <td>20.9</td>\n",
       "      <td>21.9</td>\n",
       "      <td>22.1</td>\n",
       "      <td>22.0</td>\n",
       "      <td>21.9</td>\n",
       "      <td>64.0</td>\n",
       "      <td>541</td>\n",
       "      <td>534</td>\n",
       "      <td>1075</td>\n",
       "    </tr>\n",
       "    <tr>\n",
       "      <th>48</th>\n",
       "      <td>West Virginia</td>\n",
       "      <td>69.0</td>\n",
       "      <td>20.0</td>\n",
       "      <td>19.4</td>\n",
       "      <td>21.2</td>\n",
       "      <td>20.5</td>\n",
       "      <td>20.4</td>\n",
       "      <td>14.0</td>\n",
       "      <td>558</td>\n",
       "      <td>528</td>\n",
       "      <td>1086</td>\n",
       "    </tr>\n",
       "    <tr>\n",
       "      <th>49</th>\n",
       "      <td>Wisconsin</td>\n",
       "      <td>100.0</td>\n",
       "      <td>19.7</td>\n",
       "      <td>20.4</td>\n",
       "      <td>20.6</td>\n",
       "      <td>20.9</td>\n",
       "      <td>20.5</td>\n",
       "      <td>3.0</td>\n",
       "      <td>642</td>\n",
       "      <td>649</td>\n",
       "      <td>1291</td>\n",
       "    </tr>\n",
       "    <tr>\n",
       "      <th>50</th>\n",
       "      <td>Wyoming</td>\n",
       "      <td>100.0</td>\n",
       "      <td>19.4</td>\n",
       "      <td>19.8</td>\n",
       "      <td>20.8</td>\n",
       "      <td>20.6</td>\n",
       "      <td>20.2</td>\n",
       "      <td>3.0</td>\n",
       "      <td>626</td>\n",
       "      <td>604</td>\n",
       "      <td>1230</td>\n",
       "    </tr>\n",
       "  </tbody>\n",
       "</table>\n",
       "</div>"
      ],
      "text/plain": [
       "                   State  Participation_x  English  Math_x  Reading  Science  \\\n",
       "0                Alabama            100.0     18.9    18.4     19.7     19.4   \n",
       "1                 Alaska             65.0     18.7    19.8     20.4     19.9   \n",
       "2                Arizona             62.0     18.6    19.8     20.1     19.8   \n",
       "3               Arkansas            100.0     18.9    19.0     19.7     19.5   \n",
       "4             California             31.0     22.5    22.7     23.1     22.2   \n",
       "5               Colorado            100.0     20.1    20.3     21.2     20.9   \n",
       "6            Connecticut             31.0     25.5    24.6     25.6     24.6   \n",
       "7               Delaware             18.0     24.1    23.4     24.8     23.6   \n",
       "8   District of Columbia             32.0     24.4    23.5     24.9     23.5   \n",
       "9                Florida             73.0     19.0    19.4     21.0     19.4   \n",
       "10               Georgia             55.0     21.0    20.9     22.0     21.3   \n",
       "11                Hawaii             90.0     17.8    19.2     19.2     19.3   \n",
       "12                 Idaho             38.0     21.9    21.8     23.0     22.1   \n",
       "13              Illinois             93.0     21.0    21.2     21.6     21.3   \n",
       "14               Indiana             35.0     22.0    22.4     23.2     22.3   \n",
       "15                  Iowa             67.0     21.2    21.3     22.6     22.1   \n",
       "16                Kansas             73.0     21.1    21.3     22.3     21.7   \n",
       "17              Kentucky            100.0     19.6    19.4     20.5     20.1   \n",
       "18             Louisiana            100.0     19.4    18.8     19.8     19.6   \n",
       "19                 Maine              8.0     24.2    24.0     24.8     23.7   \n",
       "20              Maryland             28.0     23.3    23.1     24.2      2.3   \n",
       "21         Massachusetts             29.0     25.4    25.3     25.9     24.7   \n",
       "22              Michigan             29.0     24.1    23.7     24.5     23.8   \n",
       "23             Minnesota            100.0     20.4    21.5     21.8     21.6   \n",
       "24           Mississippi            100.0     18.2    18.1     18.8     18.8   \n",
       "25              Missouri            100.0     19.8    19.9     20.8     20.5   \n",
       "26               Montana            100.0     19.0    20.2     21.0     20.5   \n",
       "27              Nebraska             84.0     20.9    20.9     21.9     21.5   \n",
       "28                Nevada            100.0     16.3    18.0     18.1     18.2   \n",
       "29         New Hampshire             18.0     25.4    25.1     26.0     24.9   \n",
       "30            New Jersey             34.0     23.8    23.8     24.1     23.2   \n",
       "31            New Mexico             66.0     18.6    19.4     20.4     20.0   \n",
       "32              New York             31.0     23.8    24.0     24.6     23.9   \n",
       "33        North Carolina            100.0     17.8    19.3     19.6     19.3   \n",
       "34          North Dakota             98.0     19.0    20.4     20.5     20.6   \n",
       "35                  Ohio             75.0     21.2    21.6     22.5     22.0   \n",
       "36              Oklahoma            100.0     18.5    18.8     20.1     19.6   \n",
       "37                Oregon             40.0     21.2    21.5     22.4     21.7   \n",
       "38          Pennsylvania             23.0     23.4    23.4     24.2     23.3   \n",
       "39          Rhode Island             21.0     24.0    23.3     24.7     23.4   \n",
       "40        South Carolina            100.0     17.5    18.6     19.1     18.9   \n",
       "41          South Dakota             80.0     20.7    21.5     22.3     22.0   \n",
       "42             Tennessee            100.0     19.5    19.2     20.1     19.9   \n",
       "43                 Texas             45.0     19.5    20.7     21.1     20.9   \n",
       "44                  Utah            100.0     19.5    19.9     20.8     20.6   \n",
       "45               Vermont             29.0     23.3    23.1     24.4     23.2   \n",
       "46              Virginia             29.0     23.5    23.3     24.6     23.5   \n",
       "47            Washington             29.0     20.9    21.9     22.1     22.0   \n",
       "48         West Virginia             69.0     20.0    19.4     21.2     20.5   \n",
       "49             Wisconsin            100.0     19.7    20.4     20.6     20.9   \n",
       "50               Wyoming            100.0     19.4    19.8     20.8     20.6   \n",
       "\n",
       "    Composite  Participation_y  Evidence-Based Reading and Writing  Math_y  \\\n",
       "0        19.2              5.0                                 593     572   \n",
       "1        19.8             38.0                                 547     533   \n",
       "2        19.7             30.0                                 563     553   \n",
       "3        19.4              3.0                                 614     594   \n",
       "4        22.8             53.0                                 531     524   \n",
       "5        20.8             11.0                                 606     595   \n",
       "6        25.2            100.0                                 530     512   \n",
       "7        24.1            100.0                                 503     492   \n",
       "8        24.2            100.0                                 482     468   \n",
       "9        19.8             83.0                                 520     497   \n",
       "10       21.4             61.0                                 535     515   \n",
       "11       19.0             55.0                                 544     541   \n",
       "12       22.3             93.0                                 513     493   \n",
       "13       21.4              9.0                                 559     556   \n",
       "14       22.6             63.0                                 542     532   \n",
       "15       21.9              2.0                                 641     635   \n",
       "16       21.7              4.0                                 632     628   \n",
       "17       20.0              4.0                                 631     616   \n",
       "18       19.5              4.0                                 611     586   \n",
       "19       24.3             95.0                                 513     499   \n",
       "20       23.6             69.0                                 536      52   \n",
       "21       25.4             76.0                                 555     551   \n",
       "22       24.1            100.0                                 509     495   \n",
       "23       21.5              3.0                                 644     651   \n",
       "24       18.6              2.0                                 634     607   \n",
       "25       20.4              3.0                                 640     631   \n",
       "26       20.3             10.0                                 605     591   \n",
       "27       21.4              3.0                                 629     625   \n",
       "28       17.8             26.0                                 563     553   \n",
       "29       25.5             96.0                                 532     520   \n",
       "30       23.9             70.0                                 530     526   \n",
       "31       19.7             11.0                                 577     561   \n",
       "32       24.2             67.0                                 528     523   \n",
       "33       19.1             49.0                                 546     535   \n",
       "34       20.3              2.0                                 635     621   \n",
       "35       22.0             12.0                                 578     570   \n",
       "36       19.4              7.0                                 530     517   \n",
       "37       21.8             43.0                                 560     548   \n",
       "38       23.7             65.0                                 540     531   \n",
       "39       24.0             71.0                                 539     524   \n",
       "40       18.7             50.0                                 543     521   \n",
       "41       21.8              3.0                                 612     603   \n",
       "42       19.8              5.0                                 623     604   \n",
       "43       20.7             62.0                                 513     507   \n",
       "44       20.3              3.0                                 624     614   \n",
       "45       23.6             60.0                                 562     551   \n",
       "46       23.8             65.0                                 561     541   \n",
       "47       21.9             64.0                                 541     534   \n",
       "48       20.4             14.0                                 558     528   \n",
       "49       20.5              3.0                                 642     649   \n",
       "50       20.2              3.0                                 626     604   \n",
       "\n",
       "    Total  \n",
       "0    1165  \n",
       "1    1080  \n",
       "2    1116  \n",
       "3    1208  \n",
       "4    1055  \n",
       "5    1201  \n",
       "6    1041  \n",
       "7     996  \n",
       "8     950  \n",
       "9    1017  \n",
       "10   1050  \n",
       "11   1085  \n",
       "12   1005  \n",
       "13   1115  \n",
       "14   1074  \n",
       "15   1275  \n",
       "16   1260  \n",
       "17   1247  \n",
       "18   1198  \n",
       "19   1012  \n",
       "20   1060  \n",
       "21   1107  \n",
       "22   1005  \n",
       "23   1295  \n",
       "24   1242  \n",
       "25   1271  \n",
       "26   1196  \n",
       "27   1253  \n",
       "28   1116  \n",
       "29   1052  \n",
       "30   1056  \n",
       "31   1138  \n",
       "32   1052  \n",
       "33   1081  \n",
       "34   1256  \n",
       "35   1149  \n",
       "36   1047  \n",
       "37   1108  \n",
       "38   1071  \n",
       "39   1062  \n",
       "40   1064  \n",
       "41   1216  \n",
       "42   1228  \n",
       "43   1020  \n",
       "44   1238  \n",
       "45   1114  \n",
       "46   1102  \n",
       "47   1075  \n",
       "48   1086  \n",
       "49   1291  \n",
       "50   1230  "
      ]
     },
     "execution_count": 854,
     "metadata": {},
     "output_type": "execute_result"
    }
   ],
   "source": [
    "combined"
   ]
  },
  {
   "cell_type": "code",
   "execution_count": 855,
   "metadata": {
    "scrolled": false
   },
   "outputs": [],
   "source": [
    "combined.rename(index=str, columns={\"Participation_x\": \"Part_ACT\", \"Math_x\": \"Math_ACT\", \n",
    "                                    \"Participation_y\": \"Part_SAT\", \"Math_y\": \"Math_SAT\",\n",
    "                                   \"Evidence-Based Reading and Writing\": \"EBRW\"}, inplace = True)\n"
   ]
  },
  {
   "cell_type": "code",
   "execution_count": 857,
   "metadata": {
    "scrolled": false
   },
   "outputs": [
    {
     "name": "stderr",
     "output_type": "stream",
     "text": [
      "/anaconda3/lib/python3.6/site-packages/ipykernel/__main__.py:1: SettingWithCopyWarning: \n",
      "A value is trying to be set on a copy of a slice from a DataFrame\n",
      "\n",
      "See the caveats in the documentation: http://pandas.pydata.org/pandas-docs/stable/indexing.html#indexing-view-versus-copy\n",
      "  if __name__ == '__main__':\n",
      "/anaconda3/lib/python3.6/site-packages/ipykernel/__main__.py:2: SettingWithCopyWarning: \n",
      "A value is trying to be set on a copy of a slice from a DataFrame\n",
      "\n",
      "See the caveats in the documentation: http://pandas.pydata.org/pandas-docs/stable/indexing.html#indexing-view-versus-copy\n",
      "  from ipykernel import kernelapp as app\n"
     ]
    }
   ],
   "source": [
    "combined['Math_SAT'][20] = 524\n",
    "combined['Science'][20] = 23.2"
   ]
  },
  {
   "cell_type": "code",
   "execution_count": 858,
   "metadata": {
    "scrolled": true
   },
   "outputs": [],
   "source": [
    "combined_2 = combined"
   ]
  },
  {
   "cell_type": "markdown",
   "metadata": {},
   "source": [
    "##### 11. Print the minimum and maximum of each numeric column in the data frame."
   ]
  },
  {
   "cell_type": "code",
   "execution_count": 755,
   "metadata": {
    "scrolled": true
   },
   "outputs": [
    {
     "name": "stdout",
     "output_type": "stream",
     "text": [
      "Part_ACT       8.0\n",
      "English       16.3\n",
      "Math_ACT      18.0\n",
      "Reading       18.1\n",
      "Science       18.2\n",
      "Composite     17.8\n",
      "Part_SAT       2.0\n",
      "EBRW         482.0\n",
      "Math_SAT     468.0\n",
      "Total        950.0\n",
      "dtype: float64\n",
      "Part_ACT      100.0\n",
      "English        25.5\n",
      "Math_ACT       25.3\n",
      "Reading        26.0\n",
      "Science        24.9\n",
      "Composite      25.5\n",
      "Part_SAT      100.0\n",
      "EBRW          644.0\n",
      "Math_SAT      651.0\n",
      "Total        1295.0\n",
      "dtype: float64\n"
     ]
    }
   ],
   "source": [
    "print(combined.min(numeric_only = True))\n",
    "print(combined.max(numeric_only = True))"
   ]
  },
  {
   "cell_type": "markdown",
   "metadata": {},
   "source": [
    "##### 12. Write a function using only list comprehensions, no loops, to compute standard deviation. Using this function, calculate the standard deviation of each numeric column in both data sets. Add these to a list called `sd`.\n",
    "\n",
    "$$\\sigma = \\sqrt{\\frac{1}{n}\\sum_{i=1}^n(x_i - \\mu)^2}$$"
   ]
  },
  {
   "cell_type": "code",
   "execution_count": 756,
   "metadata": {
    "scrolled": true
   },
   "outputs": [
    {
     "data": {
      "text/plain": [
       "[31.824175751231806,\n",
       " 31.824175751231806,\n",
       " 31.824175751231806,\n",
       " 31.824175751231806,\n",
       " 31.824175751231806,\n",
       " 31.824175751231806,\n",
       " 31.824175751231806,\n",
       " 31.824175751231806,\n",
       " 31.824175751231806,\n",
       " 31.824175751231806,\n",
       " 31.824175751231806,\n",
       " 31.824175751231806,\n",
       " 31.824175751231806,\n",
       " 31.824175751231806,\n",
       " 31.824175751231806,\n",
       " 31.824175751231806,\n",
       " 31.824175751231806,\n",
       " 31.824175751231806,\n",
       " 31.824175751231806,\n",
       " 31.824175751231806,\n",
       " 31.824175751231806,\n",
       " 31.824175751231806,\n",
       " 31.824175751231806,\n",
       " 31.824175751231806,\n",
       " 31.824175751231806,\n",
       " 31.824175751231806,\n",
       " 31.824175751231806,\n",
       " 31.824175751231806,\n",
       " 31.824175751231806,\n",
       " 31.824175751231806,\n",
       " 31.824175751231806,\n",
       " 31.824175751231806,\n",
       " 31.824175751231806,\n",
       " 31.824175751231806,\n",
       " 31.824175751231806,\n",
       " 31.824175751231806,\n",
       " 31.824175751231806,\n",
       " 31.824175751231806,\n",
       " 31.824175751231806,\n",
       " 31.824175751231806,\n",
       " 31.824175751231806,\n",
       " 31.824175751231806,\n",
       " 31.824175751231806,\n",
       " 31.824175751231806,\n",
       " 31.824175751231806,\n",
       " 31.824175751231806,\n",
       " 31.824175751231806,\n",
       " 31.824175751231806,\n",
       " 31.824175751231806,\n",
       " 31.824175751231806,\n",
       " 31.824175751231806]"
      ]
     },
     "execution_count": 756,
     "metadata": {},
     "output_type": "execute_result"
    }
   ],
   "source": [
    "[(sum((combined['Part_ACT'] - combined['Part_ACT'].sum()/len(combined))**2)/len(combined))**.5 for i in combined['Part_ACT']]"
   ]
  },
  {
   "cell_type": "code",
   "execution_count": 757,
   "metadata": {
    "scrolled": true
   },
   "outputs": [],
   "source": [
    "sd = []\n",
    "#[(sum((combined.colums() - combined.colums().sum()/len(combined.colums()))**2)/len(combined.colums()))**.5 for i in combined.colums()]\n",
    "#print([list(combined['Part_ACT']) for i in combined['Part_ACT']])"
   ]
  },
  {
   "cell_type": "code",
   "execution_count": 758,
   "metadata": {
    "scrolled": true
   },
   "outputs": [
    {
     "data": {
      "text/plain": [
       "[2.3304876369363363,\n",
       " 2.3304876369363363,\n",
       " 2.3304876369363363,\n",
       " 2.3304876369363363,\n",
       " 2.3304876369363363,\n",
       " 2.3304876369363363,\n",
       " 2.3304876369363363,\n",
       " 2.3304876369363363,\n",
       " 2.3304876369363363,\n",
       " 2.3304876369363363,\n",
       " 2.3304876369363363,\n",
       " 2.3304876369363363,\n",
       " 2.3304876369363363,\n",
       " 2.3304876369363363,\n",
       " 2.3304876369363363,\n",
       " 2.3304876369363363,\n",
       " 2.3304876369363363,\n",
       " 2.3304876369363363,\n",
       " 2.3304876369363363,\n",
       " 2.3304876369363363,\n",
       " 2.3304876369363363,\n",
       " 2.3304876369363363,\n",
       " 2.3304876369363363,\n",
       " 2.3304876369363363,\n",
       " 2.3304876369363363,\n",
       " 2.3304876369363363,\n",
       " 2.3304876369363363,\n",
       " 2.3304876369363363,\n",
       " 2.3304876369363363,\n",
       " 2.3304876369363363,\n",
       " 2.3304876369363363,\n",
       " 2.3304876369363363,\n",
       " 2.3304876369363363,\n",
       " 2.3304876369363363,\n",
       " 2.3304876369363363,\n",
       " 2.3304876369363363,\n",
       " 2.3304876369363363,\n",
       " 2.3304876369363363,\n",
       " 2.3304876369363363,\n",
       " 2.3304876369363363,\n",
       " 2.3304876369363363,\n",
       " 2.3304876369363363,\n",
       " 2.3304876369363363,\n",
       " 2.3304876369363363,\n",
       " 2.3304876369363363,\n",
       " 2.3304876369363363,\n",
       " 2.3304876369363363,\n",
       " 2.3304876369363363,\n",
       " 2.3304876369363363,\n",
       " 2.3304876369363363,\n",
       " 2.3304876369363363]"
      ]
     },
     "execution_count": 758,
     "metadata": {},
     "output_type": "execute_result"
    }
   ],
   "source": [
    "[(sum((combined['English'] - combined['English'].sum()/len(combined))**2)/len(combined))**.5 for i in combined['English']]\n"
   ]
  },
  {
   "cell_type": "code",
   "execution_count": 759,
   "metadata": {
    "scrolled": true
   },
   "outputs": [
    {
     "data": {
      "text/plain": [
       "[1.9624620273436781,\n",
       " 1.9624620273436781,\n",
       " 1.9624620273436781,\n",
       " 1.9624620273436781,\n",
       " 1.9624620273436781,\n",
       " 1.9624620273436781,\n",
       " 1.9624620273436781,\n",
       " 1.9624620273436781,\n",
       " 1.9624620273436781,\n",
       " 1.9624620273436781,\n",
       " 1.9624620273436781,\n",
       " 1.9624620273436781,\n",
       " 1.9624620273436781,\n",
       " 1.9624620273436781,\n",
       " 1.9624620273436781,\n",
       " 1.9624620273436781,\n",
       " 1.9624620273436781,\n",
       " 1.9624620273436781,\n",
       " 1.9624620273436781,\n",
       " 1.9624620273436781,\n",
       " 1.9624620273436781,\n",
       " 1.9624620273436781,\n",
       " 1.9624620273436781,\n",
       " 1.9624620273436781,\n",
       " 1.9624620273436781,\n",
       " 1.9624620273436781,\n",
       " 1.9624620273436781,\n",
       " 1.9624620273436781,\n",
       " 1.9624620273436781,\n",
       " 1.9624620273436781,\n",
       " 1.9624620273436781,\n",
       " 1.9624620273436781,\n",
       " 1.9624620273436781,\n",
       " 1.9624620273436781,\n",
       " 1.9624620273436781,\n",
       " 1.9624620273436781,\n",
       " 1.9624620273436781,\n",
       " 1.9624620273436781,\n",
       " 1.9624620273436781,\n",
       " 1.9624620273436781,\n",
       " 1.9624620273436781,\n",
       " 1.9624620273436781,\n",
       " 1.9624620273436781,\n",
       " 1.9624620273436781,\n",
       " 1.9624620273436781,\n",
       " 1.9624620273436781,\n",
       " 1.9624620273436781,\n",
       " 1.9624620273436781,\n",
       " 1.9624620273436781,\n",
       " 1.9624620273436781,\n",
       " 1.9624620273436781]"
      ]
     },
     "execution_count": 759,
     "metadata": {},
     "output_type": "execute_result"
    }
   ],
   "source": [
    "[(sum((combined['Math_ACT'] - combined['Math_ACT'].sum()/len(combined))**2)/len(combined))**.5 for i in combined['Math_ACT']]"
   ]
  },
  {
   "cell_type": "code",
   "execution_count": 760,
   "metadata": {
    "scrolled": true
   },
   "outputs": [
    {
     "data": {
      "text/plain": [
       "[2.0469029314842646,\n",
       " 2.0469029314842646,\n",
       " 2.0469029314842646,\n",
       " 2.0469029314842646,\n",
       " 2.0469029314842646,\n",
       " 2.0469029314842646,\n",
       " 2.0469029314842646,\n",
       " 2.0469029314842646,\n",
       " 2.0469029314842646,\n",
       " 2.0469029314842646,\n",
       " 2.0469029314842646,\n",
       " 2.0469029314842646,\n",
       " 2.0469029314842646,\n",
       " 2.0469029314842646,\n",
       " 2.0469029314842646,\n",
       " 2.0469029314842646,\n",
       " 2.0469029314842646,\n",
       " 2.0469029314842646,\n",
       " 2.0469029314842646,\n",
       " 2.0469029314842646,\n",
       " 2.0469029314842646,\n",
       " 2.0469029314842646,\n",
       " 2.0469029314842646,\n",
       " 2.0469029314842646,\n",
       " 2.0469029314842646,\n",
       " 2.0469029314842646,\n",
       " 2.0469029314842646,\n",
       " 2.0469029314842646,\n",
       " 2.0469029314842646,\n",
       " 2.0469029314842646,\n",
       " 2.0469029314842646,\n",
       " 2.0469029314842646,\n",
       " 2.0469029314842646,\n",
       " 2.0469029314842646,\n",
       " 2.0469029314842646,\n",
       " 2.0469029314842646,\n",
       " 2.0469029314842646,\n",
       " 2.0469029314842646,\n",
       " 2.0469029314842646,\n",
       " 2.0469029314842646,\n",
       " 2.0469029314842646,\n",
       " 2.0469029314842646,\n",
       " 2.0469029314842646,\n",
       " 2.0469029314842646,\n",
       " 2.0469029314842646,\n",
       " 2.0469029314842646,\n",
       " 2.0469029314842646,\n",
       " 2.0469029314842646,\n",
       " 2.0469029314842646,\n",
       " 2.0469029314842646,\n",
       " 2.0469029314842646]"
      ]
     },
     "execution_count": 760,
     "metadata": {},
     "output_type": "execute_result"
    }
   ],
   "source": [
    "[(sum((combined['Reading'] - combined['Reading'].sum()/len(combined))**2)/len(combined))**.5 for i in combined['Reading']]"
   ]
  },
  {
   "cell_type": "code",
   "execution_count": 761,
   "metadata": {
    "scrolled": true
   },
   "outputs": [
    {
     "data": {
      "text/plain": [
       "[1.7222161451443676,\n",
       " 1.7222161451443676,\n",
       " 1.7222161451443676,\n",
       " 1.7222161451443676,\n",
       " 1.7222161451443676,\n",
       " 1.7222161451443676,\n",
       " 1.7222161451443676,\n",
       " 1.7222161451443676,\n",
       " 1.7222161451443676,\n",
       " 1.7222161451443676,\n",
       " 1.7222161451443676,\n",
       " 1.7222161451443676,\n",
       " 1.7222161451443676,\n",
       " 1.7222161451443676,\n",
       " 1.7222161451443676,\n",
       " 1.7222161451443676,\n",
       " 1.7222161451443676,\n",
       " 1.7222161451443676,\n",
       " 1.7222161451443676,\n",
       " 1.7222161451443676,\n",
       " 1.7222161451443676,\n",
       " 1.7222161451443676,\n",
       " 1.7222161451443676,\n",
       " 1.7222161451443676,\n",
       " 1.7222161451443676,\n",
       " 1.7222161451443676,\n",
       " 1.7222161451443676,\n",
       " 1.7222161451443676,\n",
       " 1.7222161451443676,\n",
       " 1.7222161451443676,\n",
       " 1.7222161451443676,\n",
       " 1.7222161451443676,\n",
       " 1.7222161451443676,\n",
       " 1.7222161451443676,\n",
       " 1.7222161451443676,\n",
       " 1.7222161451443676,\n",
       " 1.7222161451443676,\n",
       " 1.7222161451443676,\n",
       " 1.7222161451443676,\n",
       " 1.7222161451443676,\n",
       " 1.7222161451443676,\n",
       " 1.7222161451443676,\n",
       " 1.7222161451443676,\n",
       " 1.7222161451443676,\n",
       " 1.7222161451443676,\n",
       " 1.7222161451443676,\n",
       " 1.7222161451443676,\n",
       " 1.7222161451443676,\n",
       " 1.7222161451443676,\n",
       " 1.7222161451443676,\n",
       " 1.7222161451443676]"
      ]
     },
     "execution_count": 761,
     "metadata": {},
     "output_type": "execute_result"
    }
   ],
   "source": [
    "[(sum((combined['Science'] - combined['Science'].sum()/len(combined))**2)/len(combined))**.5 for i in combined['Science']]"
   ]
  },
  {
   "cell_type": "code",
   "execution_count": 762,
   "metadata": {
    "scrolled": true
   },
   "outputs": [
    {
     "data": {
      "text/plain": [
       "[2.000786081581989,\n",
       " 2.000786081581989,\n",
       " 2.000786081581989,\n",
       " 2.000786081581989,\n",
       " 2.000786081581989,\n",
       " 2.000786081581989,\n",
       " 2.000786081581989,\n",
       " 2.000786081581989,\n",
       " 2.000786081581989,\n",
       " 2.000786081581989,\n",
       " 2.000786081581989,\n",
       " 2.000786081581989,\n",
       " 2.000786081581989,\n",
       " 2.000786081581989,\n",
       " 2.000786081581989,\n",
       " 2.000786081581989,\n",
       " 2.000786081581989,\n",
       " 2.000786081581989,\n",
       " 2.000786081581989,\n",
       " 2.000786081581989,\n",
       " 2.000786081581989,\n",
       " 2.000786081581989,\n",
       " 2.000786081581989,\n",
       " 2.000786081581989,\n",
       " 2.000786081581989,\n",
       " 2.000786081581989,\n",
       " 2.000786081581989,\n",
       " 2.000786081581989,\n",
       " 2.000786081581989,\n",
       " 2.000786081581989,\n",
       " 2.000786081581989,\n",
       " 2.000786081581989,\n",
       " 2.000786081581989,\n",
       " 2.000786081581989,\n",
       " 2.000786081581989,\n",
       " 2.000786081581989,\n",
       " 2.000786081581989,\n",
       " 2.000786081581989,\n",
       " 2.000786081581989,\n",
       " 2.000786081581989,\n",
       " 2.000786081581989,\n",
       " 2.000786081581989,\n",
       " 2.000786081581989,\n",
       " 2.000786081581989,\n",
       " 2.000786081581989,\n",
       " 2.000786081581989,\n",
       " 2.000786081581989,\n",
       " 2.000786081581989,\n",
       " 2.000786081581989,\n",
       " 2.000786081581989,\n",
       " 2.000786081581989]"
      ]
     },
     "execution_count": 762,
     "metadata": {},
     "output_type": "execute_result"
    }
   ],
   "source": [
    "[(sum((combined['Composite'] - combined['Composite'].sum()/len(combined))**2)/len(combined))**.5 for i in combined['Composite']]"
   ]
  },
  {
   "cell_type": "code",
   "execution_count": 763,
   "metadata": {
    "scrolled": true
   },
   "outputs": [
    {
     "data": {
      "text/plain": [
       "[34.92907076664508,\n",
       " 34.92907076664508,\n",
       " 34.92907076664508,\n",
       " 34.92907076664508,\n",
       " 34.92907076664508,\n",
       " 34.92907076664508,\n",
       " 34.92907076664508,\n",
       " 34.92907076664508,\n",
       " 34.92907076664508,\n",
       " 34.92907076664508,\n",
       " 34.92907076664508,\n",
       " 34.92907076664508,\n",
       " 34.92907076664508,\n",
       " 34.92907076664508,\n",
       " 34.92907076664508,\n",
       " 34.92907076664508,\n",
       " 34.92907076664508,\n",
       " 34.92907076664508,\n",
       " 34.92907076664508,\n",
       " 34.92907076664508,\n",
       " 34.92907076664508,\n",
       " 34.92907076664508,\n",
       " 34.92907076664508,\n",
       " 34.92907076664508,\n",
       " 34.92907076664508,\n",
       " 34.92907076664508,\n",
       " 34.92907076664508,\n",
       " 34.92907076664508,\n",
       " 34.92907076664508,\n",
       " 34.92907076664508,\n",
       " 34.92907076664508,\n",
       " 34.92907076664508,\n",
       " 34.92907076664508,\n",
       " 34.92907076664508,\n",
       " 34.92907076664508,\n",
       " 34.92907076664508,\n",
       " 34.92907076664508,\n",
       " 34.92907076664508,\n",
       " 34.92907076664508,\n",
       " 34.92907076664508,\n",
       " 34.92907076664508,\n",
       " 34.92907076664508,\n",
       " 34.92907076664508,\n",
       " 34.92907076664508,\n",
       " 34.92907076664508,\n",
       " 34.92907076664508,\n",
       " 34.92907076664508,\n",
       " 34.92907076664508,\n",
       " 34.92907076664508,\n",
       " 34.92907076664508,\n",
       " 34.92907076664508]"
      ]
     },
     "execution_count": 763,
     "metadata": {},
     "output_type": "execute_result"
    }
   ],
   "source": [
    "[(sum((combined['Part_SAT'] - combined['Part_SAT'].sum()/len(combined))**2)/len(combined))**.5 for i in combined['Part_SAT']]"
   ]
  },
  {
   "cell_type": "code",
   "execution_count": 764,
   "metadata": {
    "scrolled": true
   },
   "outputs": [
    {
     "data": {
      "text/plain": [
       "[45.21697020437866,\n",
       " 45.21697020437866,\n",
       " 45.21697020437866,\n",
       " 45.21697020437866,\n",
       " 45.21697020437866,\n",
       " 45.21697020437866,\n",
       " 45.21697020437866,\n",
       " 45.21697020437866,\n",
       " 45.21697020437866,\n",
       " 45.21697020437866,\n",
       " 45.21697020437866,\n",
       " 45.21697020437866,\n",
       " 45.21697020437866,\n",
       " 45.21697020437866,\n",
       " 45.21697020437866,\n",
       " 45.21697020437866,\n",
       " 45.21697020437866,\n",
       " 45.21697020437866,\n",
       " 45.21697020437866,\n",
       " 45.21697020437866,\n",
       " 45.21697020437866,\n",
       " 45.21697020437866,\n",
       " 45.21697020437866,\n",
       " 45.21697020437866,\n",
       " 45.21697020437866,\n",
       " 45.21697020437866,\n",
       " 45.21697020437866,\n",
       " 45.21697020437866,\n",
       " 45.21697020437866,\n",
       " 45.21697020437866,\n",
       " 45.21697020437866,\n",
       " 45.21697020437866,\n",
       " 45.21697020437866,\n",
       " 45.21697020437866,\n",
       " 45.21697020437866,\n",
       " 45.21697020437866,\n",
       " 45.21697020437866,\n",
       " 45.21697020437866,\n",
       " 45.21697020437866,\n",
       " 45.21697020437866,\n",
       " 45.21697020437866,\n",
       " 45.21697020437866,\n",
       " 45.21697020437866,\n",
       " 45.21697020437866,\n",
       " 45.21697020437866,\n",
       " 45.21697020437866,\n",
       " 45.21697020437866,\n",
       " 45.21697020437866,\n",
       " 45.21697020437866,\n",
       " 45.21697020437866,\n",
       " 45.21697020437866]"
      ]
     },
     "execution_count": 764,
     "metadata": {},
     "output_type": "execute_result"
    }
   ],
   "source": [
    "[(sum((combined['EBRW'] - combined['EBRW'].sum()/len(combined))**2)/len(combined))**.5 for i in combined['EBRW']]"
   ]
  },
  {
   "cell_type": "code",
   "execution_count": 765,
   "metadata": {
    "scrolled": true
   },
   "outputs": [
    {
     "data": {
      "text/plain": [
       "[46.65713364485503,\n",
       " 46.65713364485503,\n",
       " 46.65713364485503,\n",
       " 46.65713364485503,\n",
       " 46.65713364485503,\n",
       " 46.65713364485503,\n",
       " 46.65713364485503,\n",
       " 46.65713364485503,\n",
       " 46.65713364485503,\n",
       " 46.65713364485503,\n",
       " 46.65713364485503,\n",
       " 46.65713364485503,\n",
       " 46.65713364485503,\n",
       " 46.65713364485503,\n",
       " 46.65713364485503,\n",
       " 46.65713364485503,\n",
       " 46.65713364485503,\n",
       " 46.65713364485503,\n",
       " 46.65713364485503,\n",
       " 46.65713364485503,\n",
       " 46.65713364485503,\n",
       " 46.65713364485503,\n",
       " 46.65713364485503,\n",
       " 46.65713364485503,\n",
       " 46.65713364485503,\n",
       " 46.65713364485503,\n",
       " 46.65713364485503,\n",
       " 46.65713364485503,\n",
       " 46.65713364485503,\n",
       " 46.65713364485503,\n",
       " 46.65713364485503,\n",
       " 46.65713364485503,\n",
       " 46.65713364485503,\n",
       " 46.65713364485503,\n",
       " 46.65713364485503,\n",
       " 46.65713364485503,\n",
       " 46.65713364485503,\n",
       " 46.65713364485503,\n",
       " 46.65713364485503,\n",
       " 46.65713364485503,\n",
       " 46.65713364485503,\n",
       " 46.65713364485503,\n",
       " 46.65713364485503,\n",
       " 46.65713364485503,\n",
       " 46.65713364485503,\n",
       " 46.65713364485503,\n",
       " 46.65713364485503,\n",
       " 46.65713364485503,\n",
       " 46.65713364485503,\n",
       " 46.65713364485503,\n",
       " 46.65713364485503]"
      ]
     },
     "execution_count": 765,
     "metadata": {},
     "output_type": "execute_result"
    }
   ],
   "source": [
    "[(sum((combined['Math_SAT'] - combined['Math_SAT'].sum()/len(combined))**2)/len(combined))**.5 for i in combined['Math_SAT']]"
   ]
  },
  {
   "cell_type": "code",
   "execution_count": 766,
   "metadata": {
    "scrolled": true
   },
   "outputs": [
    {
     "data": {
      "text/plain": [
       "[91.58351056778743,\n",
       " 91.58351056778743,\n",
       " 91.58351056778743,\n",
       " 91.58351056778743,\n",
       " 91.58351056778743,\n",
       " 91.58351056778743,\n",
       " 91.58351056778743,\n",
       " 91.58351056778743,\n",
       " 91.58351056778743,\n",
       " 91.58351056778743,\n",
       " 91.58351056778743,\n",
       " 91.58351056778743,\n",
       " 91.58351056778743,\n",
       " 91.58351056778743,\n",
       " 91.58351056778743,\n",
       " 91.58351056778743,\n",
       " 91.58351056778743,\n",
       " 91.58351056778743,\n",
       " 91.58351056778743,\n",
       " 91.58351056778743,\n",
       " 91.58351056778743,\n",
       " 91.58351056778743,\n",
       " 91.58351056778743,\n",
       " 91.58351056778743,\n",
       " 91.58351056778743,\n",
       " 91.58351056778743,\n",
       " 91.58351056778743,\n",
       " 91.58351056778743,\n",
       " 91.58351056778743,\n",
       " 91.58351056778743,\n",
       " 91.58351056778743,\n",
       " 91.58351056778743,\n",
       " 91.58351056778743,\n",
       " 91.58351056778743,\n",
       " 91.58351056778743,\n",
       " 91.58351056778743,\n",
       " 91.58351056778743,\n",
       " 91.58351056778743,\n",
       " 91.58351056778743,\n",
       " 91.58351056778743,\n",
       " 91.58351056778743,\n",
       " 91.58351056778743,\n",
       " 91.58351056778743,\n",
       " 91.58351056778743,\n",
       " 91.58351056778743,\n",
       " 91.58351056778743,\n",
       " 91.58351056778743,\n",
       " 91.58351056778743,\n",
       " 91.58351056778743,\n",
       " 91.58351056778743,\n",
       " 91.58351056778743]"
      ]
     },
     "execution_count": 766,
     "metadata": {},
     "output_type": "execute_result"
    }
   ],
   "source": [
    "[(sum((combined['Total'] - combined['Total'].sum()/len(combined))**2)/len(combined))**.5 for i in combined['Total']]"
   ]
  },
  {
   "cell_type": "code",
   "execution_count": 767,
   "metadata": {},
   "outputs": [],
   "source": [
    "sd = [31.824175751231806, 2.3304876369363363, 1.9624620273436781, 2.0469029314842646, 3.151107895464408, 2.000786081581989, 34.92907076664508, 45.21697020437866, 84.07255521608297, 91.58351056778743] "
   ]
  },
  {
   "cell_type": "code",
   "execution_count": 768,
   "metadata": {},
   "outputs": [
    {
     "data": {
      "text/plain": [
       "10"
      ]
     },
     "execution_count": 768,
     "metadata": {},
     "output_type": "execute_result"
    }
   ],
   "source": [
    "len(sd)"
   ]
  },
  {
   "cell_type": "markdown",
   "metadata": {},
   "source": [
    "## Step 2: Manipulate the dataframe"
   ]
  },
  {
   "cell_type": "markdown",
   "metadata": {},
   "source": [
    "##### 13. Turn the list `sd` into a new observation in your dataset."
   ]
  },
  {
   "cell_type": "code",
   "execution_count": 769,
   "metadata": {},
   "outputs": [],
   "source": [
    "combined.loc[51] = ['StDev', 31.824175751231806,\n",
    " 2.3304876369363363,\n",
    " 1.9624620273436781,\n",
    " 2.0469029314842646,\n",
    " 3.151107895464408,\n",
    " 2.000786081581989,\n",
    " 34.92907076664508,\n",
    " 45.21697020437866,\n",
    " 84.07255521608297,\n",
    " 91.58351056778743]"
   ]
  },
  {
   "cell_type": "code",
   "execution_count": 860,
   "metadata": {
    "scrolled": true
   },
   "outputs": [
    {
     "data": {
      "text/html": [
       "<div>\n",
       "<style scoped>\n",
       "    .dataframe tbody tr th:only-of-type {\n",
       "        vertical-align: middle;\n",
       "    }\n",
       "\n",
       "    .dataframe tbody tr th {\n",
       "        vertical-align: top;\n",
       "    }\n",
       "\n",
       "    .dataframe thead th {\n",
       "        text-align: right;\n",
       "    }\n",
       "</style>\n",
       "<table border=\"1\" class=\"dataframe\">\n",
       "  <thead>\n",
       "    <tr style=\"text-align: right;\">\n",
       "      <th></th>\n",
       "      <th>State</th>\n",
       "      <th>Part_ACT</th>\n",
       "      <th>English</th>\n",
       "      <th>Math_ACT</th>\n",
       "      <th>Reading</th>\n",
       "      <th>Science</th>\n",
       "      <th>Composite</th>\n",
       "      <th>Part_SAT</th>\n",
       "      <th>EBRW</th>\n",
       "      <th>Math_SAT</th>\n",
       "      <th>Total</th>\n",
       "    </tr>\n",
       "  </thead>\n",
       "  <tbody>\n",
       "    <tr>\n",
       "      <th>0</th>\n",
       "      <td>Alabama</td>\n",
       "      <td>100.0</td>\n",
       "      <td>18.9</td>\n",
       "      <td>18.4</td>\n",
       "      <td>19.7</td>\n",
       "      <td>19.4</td>\n",
       "      <td>19.2</td>\n",
       "      <td>5.0</td>\n",
       "      <td>593</td>\n",
       "      <td>572</td>\n",
       "      <td>1165</td>\n",
       "    </tr>\n",
       "    <tr>\n",
       "      <th>1</th>\n",
       "      <td>Alaska</td>\n",
       "      <td>65.0</td>\n",
       "      <td>18.7</td>\n",
       "      <td>19.8</td>\n",
       "      <td>20.4</td>\n",
       "      <td>19.9</td>\n",
       "      <td>19.8</td>\n",
       "      <td>38.0</td>\n",
       "      <td>547</td>\n",
       "      <td>533</td>\n",
       "      <td>1080</td>\n",
       "    </tr>\n",
       "    <tr>\n",
       "      <th>2</th>\n",
       "      <td>Arizona</td>\n",
       "      <td>62.0</td>\n",
       "      <td>18.6</td>\n",
       "      <td>19.8</td>\n",
       "      <td>20.1</td>\n",
       "      <td>19.8</td>\n",
       "      <td>19.7</td>\n",
       "      <td>30.0</td>\n",
       "      <td>563</td>\n",
       "      <td>553</td>\n",
       "      <td>1116</td>\n",
       "    </tr>\n",
       "    <tr>\n",
       "      <th>3</th>\n",
       "      <td>Arkansas</td>\n",
       "      <td>100.0</td>\n",
       "      <td>18.9</td>\n",
       "      <td>19.0</td>\n",
       "      <td>19.7</td>\n",
       "      <td>19.5</td>\n",
       "      <td>19.4</td>\n",
       "      <td>3.0</td>\n",
       "      <td>614</td>\n",
       "      <td>594</td>\n",
       "      <td>1208</td>\n",
       "    </tr>\n",
       "    <tr>\n",
       "      <th>4</th>\n",
       "      <td>California</td>\n",
       "      <td>31.0</td>\n",
       "      <td>22.5</td>\n",
       "      <td>22.7</td>\n",
       "      <td>23.1</td>\n",
       "      <td>22.2</td>\n",
       "      <td>22.8</td>\n",
       "      <td>53.0</td>\n",
       "      <td>531</td>\n",
       "      <td>524</td>\n",
       "      <td>1055</td>\n",
       "    </tr>\n",
       "    <tr>\n",
       "      <th>5</th>\n",
       "      <td>Colorado</td>\n",
       "      <td>100.0</td>\n",
       "      <td>20.1</td>\n",
       "      <td>20.3</td>\n",
       "      <td>21.2</td>\n",
       "      <td>20.9</td>\n",
       "      <td>20.8</td>\n",
       "      <td>11.0</td>\n",
       "      <td>606</td>\n",
       "      <td>595</td>\n",
       "      <td>1201</td>\n",
       "    </tr>\n",
       "    <tr>\n",
       "      <th>6</th>\n",
       "      <td>Connecticut</td>\n",
       "      <td>31.0</td>\n",
       "      <td>25.5</td>\n",
       "      <td>24.6</td>\n",
       "      <td>25.6</td>\n",
       "      <td>24.6</td>\n",
       "      <td>25.2</td>\n",
       "      <td>100.0</td>\n",
       "      <td>530</td>\n",
       "      <td>512</td>\n",
       "      <td>1041</td>\n",
       "    </tr>\n",
       "    <tr>\n",
       "      <th>7</th>\n",
       "      <td>Delaware</td>\n",
       "      <td>18.0</td>\n",
       "      <td>24.1</td>\n",
       "      <td>23.4</td>\n",
       "      <td>24.8</td>\n",
       "      <td>23.6</td>\n",
       "      <td>24.1</td>\n",
       "      <td>100.0</td>\n",
       "      <td>503</td>\n",
       "      <td>492</td>\n",
       "      <td>996</td>\n",
       "    </tr>\n",
       "    <tr>\n",
       "      <th>8</th>\n",
       "      <td>District of Columbia</td>\n",
       "      <td>32.0</td>\n",
       "      <td>24.4</td>\n",
       "      <td>23.5</td>\n",
       "      <td>24.9</td>\n",
       "      <td>23.5</td>\n",
       "      <td>24.2</td>\n",
       "      <td>100.0</td>\n",
       "      <td>482</td>\n",
       "      <td>468</td>\n",
       "      <td>950</td>\n",
       "    </tr>\n",
       "    <tr>\n",
       "      <th>9</th>\n",
       "      <td>Florida</td>\n",
       "      <td>73.0</td>\n",
       "      <td>19.0</td>\n",
       "      <td>19.4</td>\n",
       "      <td>21.0</td>\n",
       "      <td>19.4</td>\n",
       "      <td>19.8</td>\n",
       "      <td>83.0</td>\n",
       "      <td>520</td>\n",
       "      <td>497</td>\n",
       "      <td>1017</td>\n",
       "    </tr>\n",
       "    <tr>\n",
       "      <th>10</th>\n",
       "      <td>Georgia</td>\n",
       "      <td>55.0</td>\n",
       "      <td>21.0</td>\n",
       "      <td>20.9</td>\n",
       "      <td>22.0</td>\n",
       "      <td>21.3</td>\n",
       "      <td>21.4</td>\n",
       "      <td>61.0</td>\n",
       "      <td>535</td>\n",
       "      <td>515</td>\n",
       "      <td>1050</td>\n",
       "    </tr>\n",
       "    <tr>\n",
       "      <th>11</th>\n",
       "      <td>Hawaii</td>\n",
       "      <td>90.0</td>\n",
       "      <td>17.8</td>\n",
       "      <td>19.2</td>\n",
       "      <td>19.2</td>\n",
       "      <td>19.3</td>\n",
       "      <td>19.0</td>\n",
       "      <td>55.0</td>\n",
       "      <td>544</td>\n",
       "      <td>541</td>\n",
       "      <td>1085</td>\n",
       "    </tr>\n",
       "    <tr>\n",
       "      <th>12</th>\n",
       "      <td>Idaho</td>\n",
       "      <td>38.0</td>\n",
       "      <td>21.9</td>\n",
       "      <td>21.8</td>\n",
       "      <td>23.0</td>\n",
       "      <td>22.1</td>\n",
       "      <td>22.3</td>\n",
       "      <td>93.0</td>\n",
       "      <td>513</td>\n",
       "      <td>493</td>\n",
       "      <td>1005</td>\n",
       "    </tr>\n",
       "    <tr>\n",
       "      <th>13</th>\n",
       "      <td>Illinois</td>\n",
       "      <td>93.0</td>\n",
       "      <td>21.0</td>\n",
       "      <td>21.2</td>\n",
       "      <td>21.6</td>\n",
       "      <td>21.3</td>\n",
       "      <td>21.4</td>\n",
       "      <td>9.0</td>\n",
       "      <td>559</td>\n",
       "      <td>556</td>\n",
       "      <td>1115</td>\n",
       "    </tr>\n",
       "    <tr>\n",
       "      <th>14</th>\n",
       "      <td>Indiana</td>\n",
       "      <td>35.0</td>\n",
       "      <td>22.0</td>\n",
       "      <td>22.4</td>\n",
       "      <td>23.2</td>\n",
       "      <td>22.3</td>\n",
       "      <td>22.6</td>\n",
       "      <td>63.0</td>\n",
       "      <td>542</td>\n",
       "      <td>532</td>\n",
       "      <td>1074</td>\n",
       "    </tr>\n",
       "    <tr>\n",
       "      <th>15</th>\n",
       "      <td>Iowa</td>\n",
       "      <td>67.0</td>\n",
       "      <td>21.2</td>\n",
       "      <td>21.3</td>\n",
       "      <td>22.6</td>\n",
       "      <td>22.1</td>\n",
       "      <td>21.9</td>\n",
       "      <td>2.0</td>\n",
       "      <td>641</td>\n",
       "      <td>635</td>\n",
       "      <td>1275</td>\n",
       "    </tr>\n",
       "    <tr>\n",
       "      <th>16</th>\n",
       "      <td>Kansas</td>\n",
       "      <td>73.0</td>\n",
       "      <td>21.1</td>\n",
       "      <td>21.3</td>\n",
       "      <td>22.3</td>\n",
       "      <td>21.7</td>\n",
       "      <td>21.7</td>\n",
       "      <td>4.0</td>\n",
       "      <td>632</td>\n",
       "      <td>628</td>\n",
       "      <td>1260</td>\n",
       "    </tr>\n",
       "    <tr>\n",
       "      <th>17</th>\n",
       "      <td>Kentucky</td>\n",
       "      <td>100.0</td>\n",
       "      <td>19.6</td>\n",
       "      <td>19.4</td>\n",
       "      <td>20.5</td>\n",
       "      <td>20.1</td>\n",
       "      <td>20.0</td>\n",
       "      <td>4.0</td>\n",
       "      <td>631</td>\n",
       "      <td>616</td>\n",
       "      <td>1247</td>\n",
       "    </tr>\n",
       "    <tr>\n",
       "      <th>18</th>\n",
       "      <td>Louisiana</td>\n",
       "      <td>100.0</td>\n",
       "      <td>19.4</td>\n",
       "      <td>18.8</td>\n",
       "      <td>19.8</td>\n",
       "      <td>19.6</td>\n",
       "      <td>19.5</td>\n",
       "      <td>4.0</td>\n",
       "      <td>611</td>\n",
       "      <td>586</td>\n",
       "      <td>1198</td>\n",
       "    </tr>\n",
       "    <tr>\n",
       "      <th>19</th>\n",
       "      <td>Maine</td>\n",
       "      <td>8.0</td>\n",
       "      <td>24.2</td>\n",
       "      <td>24.0</td>\n",
       "      <td>24.8</td>\n",
       "      <td>23.7</td>\n",
       "      <td>24.3</td>\n",
       "      <td>95.0</td>\n",
       "      <td>513</td>\n",
       "      <td>499</td>\n",
       "      <td>1012</td>\n",
       "    </tr>\n",
       "    <tr>\n",
       "      <th>20</th>\n",
       "      <td>Maryland</td>\n",
       "      <td>28.0</td>\n",
       "      <td>23.3</td>\n",
       "      <td>23.1</td>\n",
       "      <td>24.2</td>\n",
       "      <td>23.2</td>\n",
       "      <td>23.6</td>\n",
       "      <td>69.0</td>\n",
       "      <td>536</td>\n",
       "      <td>524</td>\n",
       "      <td>1060</td>\n",
       "    </tr>\n",
       "    <tr>\n",
       "      <th>21</th>\n",
       "      <td>Massachusetts</td>\n",
       "      <td>29.0</td>\n",
       "      <td>25.4</td>\n",
       "      <td>25.3</td>\n",
       "      <td>25.9</td>\n",
       "      <td>24.7</td>\n",
       "      <td>25.4</td>\n",
       "      <td>76.0</td>\n",
       "      <td>555</td>\n",
       "      <td>551</td>\n",
       "      <td>1107</td>\n",
       "    </tr>\n",
       "    <tr>\n",
       "      <th>22</th>\n",
       "      <td>Michigan</td>\n",
       "      <td>29.0</td>\n",
       "      <td>24.1</td>\n",
       "      <td>23.7</td>\n",
       "      <td>24.5</td>\n",
       "      <td>23.8</td>\n",
       "      <td>24.1</td>\n",
       "      <td>100.0</td>\n",
       "      <td>509</td>\n",
       "      <td>495</td>\n",
       "      <td>1005</td>\n",
       "    </tr>\n",
       "    <tr>\n",
       "      <th>23</th>\n",
       "      <td>Minnesota</td>\n",
       "      <td>100.0</td>\n",
       "      <td>20.4</td>\n",
       "      <td>21.5</td>\n",
       "      <td>21.8</td>\n",
       "      <td>21.6</td>\n",
       "      <td>21.5</td>\n",
       "      <td>3.0</td>\n",
       "      <td>644</td>\n",
       "      <td>651</td>\n",
       "      <td>1295</td>\n",
       "    </tr>\n",
       "    <tr>\n",
       "      <th>24</th>\n",
       "      <td>Mississippi</td>\n",
       "      <td>100.0</td>\n",
       "      <td>18.2</td>\n",
       "      <td>18.1</td>\n",
       "      <td>18.8</td>\n",
       "      <td>18.8</td>\n",
       "      <td>18.6</td>\n",
       "      <td>2.0</td>\n",
       "      <td>634</td>\n",
       "      <td>607</td>\n",
       "      <td>1242</td>\n",
       "    </tr>\n",
       "    <tr>\n",
       "      <th>25</th>\n",
       "      <td>Missouri</td>\n",
       "      <td>100.0</td>\n",
       "      <td>19.8</td>\n",
       "      <td>19.9</td>\n",
       "      <td>20.8</td>\n",
       "      <td>20.5</td>\n",
       "      <td>20.4</td>\n",
       "      <td>3.0</td>\n",
       "      <td>640</td>\n",
       "      <td>631</td>\n",
       "      <td>1271</td>\n",
       "    </tr>\n",
       "    <tr>\n",
       "      <th>26</th>\n",
       "      <td>Montana</td>\n",
       "      <td>100.0</td>\n",
       "      <td>19.0</td>\n",
       "      <td>20.2</td>\n",
       "      <td>21.0</td>\n",
       "      <td>20.5</td>\n",
       "      <td>20.3</td>\n",
       "      <td>10.0</td>\n",
       "      <td>605</td>\n",
       "      <td>591</td>\n",
       "      <td>1196</td>\n",
       "    </tr>\n",
       "    <tr>\n",
       "      <th>27</th>\n",
       "      <td>Nebraska</td>\n",
       "      <td>84.0</td>\n",
       "      <td>20.9</td>\n",
       "      <td>20.9</td>\n",
       "      <td>21.9</td>\n",
       "      <td>21.5</td>\n",
       "      <td>21.4</td>\n",
       "      <td>3.0</td>\n",
       "      <td>629</td>\n",
       "      <td>625</td>\n",
       "      <td>1253</td>\n",
       "    </tr>\n",
       "    <tr>\n",
       "      <th>28</th>\n",
       "      <td>Nevada</td>\n",
       "      <td>100.0</td>\n",
       "      <td>16.3</td>\n",
       "      <td>18.0</td>\n",
       "      <td>18.1</td>\n",
       "      <td>18.2</td>\n",
       "      <td>17.8</td>\n",
       "      <td>26.0</td>\n",
       "      <td>563</td>\n",
       "      <td>553</td>\n",
       "      <td>1116</td>\n",
       "    </tr>\n",
       "    <tr>\n",
       "      <th>29</th>\n",
       "      <td>New Hampshire</td>\n",
       "      <td>18.0</td>\n",
       "      <td>25.4</td>\n",
       "      <td>25.1</td>\n",
       "      <td>26.0</td>\n",
       "      <td>24.9</td>\n",
       "      <td>25.5</td>\n",
       "      <td>96.0</td>\n",
       "      <td>532</td>\n",
       "      <td>520</td>\n",
       "      <td>1052</td>\n",
       "    </tr>\n",
       "    <tr>\n",
       "      <th>30</th>\n",
       "      <td>New Jersey</td>\n",
       "      <td>34.0</td>\n",
       "      <td>23.8</td>\n",
       "      <td>23.8</td>\n",
       "      <td>24.1</td>\n",
       "      <td>23.2</td>\n",
       "      <td>23.9</td>\n",
       "      <td>70.0</td>\n",
       "      <td>530</td>\n",
       "      <td>526</td>\n",
       "      <td>1056</td>\n",
       "    </tr>\n",
       "    <tr>\n",
       "      <th>31</th>\n",
       "      <td>New Mexico</td>\n",
       "      <td>66.0</td>\n",
       "      <td>18.6</td>\n",
       "      <td>19.4</td>\n",
       "      <td>20.4</td>\n",
       "      <td>20.0</td>\n",
       "      <td>19.7</td>\n",
       "      <td>11.0</td>\n",
       "      <td>577</td>\n",
       "      <td>561</td>\n",
       "      <td>1138</td>\n",
       "    </tr>\n",
       "    <tr>\n",
       "      <th>32</th>\n",
       "      <td>New York</td>\n",
       "      <td>31.0</td>\n",
       "      <td>23.8</td>\n",
       "      <td>24.0</td>\n",
       "      <td>24.6</td>\n",
       "      <td>23.9</td>\n",
       "      <td>24.2</td>\n",
       "      <td>67.0</td>\n",
       "      <td>528</td>\n",
       "      <td>523</td>\n",
       "      <td>1052</td>\n",
       "    </tr>\n",
       "    <tr>\n",
       "      <th>33</th>\n",
       "      <td>North Carolina</td>\n",
       "      <td>100.0</td>\n",
       "      <td>17.8</td>\n",
       "      <td>19.3</td>\n",
       "      <td>19.6</td>\n",
       "      <td>19.3</td>\n",
       "      <td>19.1</td>\n",
       "      <td>49.0</td>\n",
       "      <td>546</td>\n",
       "      <td>535</td>\n",
       "      <td>1081</td>\n",
       "    </tr>\n",
       "    <tr>\n",
       "      <th>34</th>\n",
       "      <td>North Dakota</td>\n",
       "      <td>98.0</td>\n",
       "      <td>19.0</td>\n",
       "      <td>20.4</td>\n",
       "      <td>20.5</td>\n",
       "      <td>20.6</td>\n",
       "      <td>20.3</td>\n",
       "      <td>2.0</td>\n",
       "      <td>635</td>\n",
       "      <td>621</td>\n",
       "      <td>1256</td>\n",
       "    </tr>\n",
       "    <tr>\n",
       "      <th>35</th>\n",
       "      <td>Ohio</td>\n",
       "      <td>75.0</td>\n",
       "      <td>21.2</td>\n",
       "      <td>21.6</td>\n",
       "      <td>22.5</td>\n",
       "      <td>22.0</td>\n",
       "      <td>22.0</td>\n",
       "      <td>12.0</td>\n",
       "      <td>578</td>\n",
       "      <td>570</td>\n",
       "      <td>1149</td>\n",
       "    </tr>\n",
       "    <tr>\n",
       "      <th>36</th>\n",
       "      <td>Oklahoma</td>\n",
       "      <td>100.0</td>\n",
       "      <td>18.5</td>\n",
       "      <td>18.8</td>\n",
       "      <td>20.1</td>\n",
       "      <td>19.6</td>\n",
       "      <td>19.4</td>\n",
       "      <td>7.0</td>\n",
       "      <td>530</td>\n",
       "      <td>517</td>\n",
       "      <td>1047</td>\n",
       "    </tr>\n",
       "    <tr>\n",
       "      <th>37</th>\n",
       "      <td>Oregon</td>\n",
       "      <td>40.0</td>\n",
       "      <td>21.2</td>\n",
       "      <td>21.5</td>\n",
       "      <td>22.4</td>\n",
       "      <td>21.7</td>\n",
       "      <td>21.8</td>\n",
       "      <td>43.0</td>\n",
       "      <td>560</td>\n",
       "      <td>548</td>\n",
       "      <td>1108</td>\n",
       "    </tr>\n",
       "    <tr>\n",
       "      <th>38</th>\n",
       "      <td>Pennsylvania</td>\n",
       "      <td>23.0</td>\n",
       "      <td>23.4</td>\n",
       "      <td>23.4</td>\n",
       "      <td>24.2</td>\n",
       "      <td>23.3</td>\n",
       "      <td>23.7</td>\n",
       "      <td>65.0</td>\n",
       "      <td>540</td>\n",
       "      <td>531</td>\n",
       "      <td>1071</td>\n",
       "    </tr>\n",
       "    <tr>\n",
       "      <th>39</th>\n",
       "      <td>Rhode Island</td>\n",
       "      <td>21.0</td>\n",
       "      <td>24.0</td>\n",
       "      <td>23.3</td>\n",
       "      <td>24.7</td>\n",
       "      <td>23.4</td>\n",
       "      <td>24.0</td>\n",
       "      <td>71.0</td>\n",
       "      <td>539</td>\n",
       "      <td>524</td>\n",
       "      <td>1062</td>\n",
       "    </tr>\n",
       "    <tr>\n",
       "      <th>40</th>\n",
       "      <td>South Carolina</td>\n",
       "      <td>100.0</td>\n",
       "      <td>17.5</td>\n",
       "      <td>18.6</td>\n",
       "      <td>19.1</td>\n",
       "      <td>18.9</td>\n",
       "      <td>18.7</td>\n",
       "      <td>50.0</td>\n",
       "      <td>543</td>\n",
       "      <td>521</td>\n",
       "      <td>1064</td>\n",
       "    </tr>\n",
       "    <tr>\n",
       "      <th>41</th>\n",
       "      <td>South Dakota</td>\n",
       "      <td>80.0</td>\n",
       "      <td>20.7</td>\n",
       "      <td>21.5</td>\n",
       "      <td>22.3</td>\n",
       "      <td>22.0</td>\n",
       "      <td>21.8</td>\n",
       "      <td>3.0</td>\n",
       "      <td>612</td>\n",
       "      <td>603</td>\n",
       "      <td>1216</td>\n",
       "    </tr>\n",
       "    <tr>\n",
       "      <th>42</th>\n",
       "      <td>Tennessee</td>\n",
       "      <td>100.0</td>\n",
       "      <td>19.5</td>\n",
       "      <td>19.2</td>\n",
       "      <td>20.1</td>\n",
       "      <td>19.9</td>\n",
       "      <td>19.8</td>\n",
       "      <td>5.0</td>\n",
       "      <td>623</td>\n",
       "      <td>604</td>\n",
       "      <td>1228</td>\n",
       "    </tr>\n",
       "    <tr>\n",
       "      <th>43</th>\n",
       "      <td>Texas</td>\n",
       "      <td>45.0</td>\n",
       "      <td>19.5</td>\n",
       "      <td>20.7</td>\n",
       "      <td>21.1</td>\n",
       "      <td>20.9</td>\n",
       "      <td>20.7</td>\n",
       "      <td>62.0</td>\n",
       "      <td>513</td>\n",
       "      <td>507</td>\n",
       "      <td>1020</td>\n",
       "    </tr>\n",
       "    <tr>\n",
       "      <th>44</th>\n",
       "      <td>Utah</td>\n",
       "      <td>100.0</td>\n",
       "      <td>19.5</td>\n",
       "      <td>19.9</td>\n",
       "      <td>20.8</td>\n",
       "      <td>20.6</td>\n",
       "      <td>20.3</td>\n",
       "      <td>3.0</td>\n",
       "      <td>624</td>\n",
       "      <td>614</td>\n",
       "      <td>1238</td>\n",
       "    </tr>\n",
       "    <tr>\n",
       "      <th>45</th>\n",
       "      <td>Vermont</td>\n",
       "      <td>29.0</td>\n",
       "      <td>23.3</td>\n",
       "      <td>23.1</td>\n",
       "      <td>24.4</td>\n",
       "      <td>23.2</td>\n",
       "      <td>23.6</td>\n",
       "      <td>60.0</td>\n",
       "      <td>562</td>\n",
       "      <td>551</td>\n",
       "      <td>1114</td>\n",
       "    </tr>\n",
       "    <tr>\n",
       "      <th>46</th>\n",
       "      <td>Virginia</td>\n",
       "      <td>29.0</td>\n",
       "      <td>23.5</td>\n",
       "      <td>23.3</td>\n",
       "      <td>24.6</td>\n",
       "      <td>23.5</td>\n",
       "      <td>23.8</td>\n",
       "      <td>65.0</td>\n",
       "      <td>561</td>\n",
       "      <td>541</td>\n",
       "      <td>1102</td>\n",
       "    </tr>\n",
       "    <tr>\n",
       "      <th>47</th>\n",
       "      <td>Washington</td>\n",
       "      <td>29.0</td>\n",
       "      <td>20.9</td>\n",
       "      <td>21.9</td>\n",
       "      <td>22.1</td>\n",
       "      <td>22.0</td>\n",
       "      <td>21.9</td>\n",
       "      <td>64.0</td>\n",
       "      <td>541</td>\n",
       "      <td>534</td>\n",
       "      <td>1075</td>\n",
       "    </tr>\n",
       "    <tr>\n",
       "      <th>48</th>\n",
       "      <td>West Virginia</td>\n",
       "      <td>69.0</td>\n",
       "      <td>20.0</td>\n",
       "      <td>19.4</td>\n",
       "      <td>21.2</td>\n",
       "      <td>20.5</td>\n",
       "      <td>20.4</td>\n",
       "      <td>14.0</td>\n",
       "      <td>558</td>\n",
       "      <td>528</td>\n",
       "      <td>1086</td>\n",
       "    </tr>\n",
       "    <tr>\n",
       "      <th>49</th>\n",
       "      <td>Wisconsin</td>\n",
       "      <td>100.0</td>\n",
       "      <td>19.7</td>\n",
       "      <td>20.4</td>\n",
       "      <td>20.6</td>\n",
       "      <td>20.9</td>\n",
       "      <td>20.5</td>\n",
       "      <td>3.0</td>\n",
       "      <td>642</td>\n",
       "      <td>649</td>\n",
       "      <td>1291</td>\n",
       "    </tr>\n",
       "    <tr>\n",
       "      <th>50</th>\n",
       "      <td>Wyoming</td>\n",
       "      <td>100.0</td>\n",
       "      <td>19.4</td>\n",
       "      <td>19.8</td>\n",
       "      <td>20.8</td>\n",
       "      <td>20.6</td>\n",
       "      <td>20.2</td>\n",
       "      <td>3.0</td>\n",
       "      <td>626</td>\n",
       "      <td>604</td>\n",
       "      <td>1230</td>\n",
       "    </tr>\n",
       "  </tbody>\n",
       "</table>\n",
       "</div>"
      ],
      "text/plain": [
       "                   State  Part_ACT  English  Math_ACT  Reading  Science  \\\n",
       "0                Alabama     100.0     18.9      18.4     19.7     19.4   \n",
       "1                 Alaska      65.0     18.7      19.8     20.4     19.9   \n",
       "2                Arizona      62.0     18.6      19.8     20.1     19.8   \n",
       "3               Arkansas     100.0     18.9      19.0     19.7     19.5   \n",
       "4             California      31.0     22.5      22.7     23.1     22.2   \n",
       "5               Colorado     100.0     20.1      20.3     21.2     20.9   \n",
       "6            Connecticut      31.0     25.5      24.6     25.6     24.6   \n",
       "7               Delaware      18.0     24.1      23.4     24.8     23.6   \n",
       "8   District of Columbia      32.0     24.4      23.5     24.9     23.5   \n",
       "9                Florida      73.0     19.0      19.4     21.0     19.4   \n",
       "10               Georgia      55.0     21.0      20.9     22.0     21.3   \n",
       "11                Hawaii      90.0     17.8      19.2     19.2     19.3   \n",
       "12                 Idaho      38.0     21.9      21.8     23.0     22.1   \n",
       "13              Illinois      93.0     21.0      21.2     21.6     21.3   \n",
       "14               Indiana      35.0     22.0      22.4     23.2     22.3   \n",
       "15                  Iowa      67.0     21.2      21.3     22.6     22.1   \n",
       "16                Kansas      73.0     21.1      21.3     22.3     21.7   \n",
       "17              Kentucky     100.0     19.6      19.4     20.5     20.1   \n",
       "18             Louisiana     100.0     19.4      18.8     19.8     19.6   \n",
       "19                 Maine       8.0     24.2      24.0     24.8     23.7   \n",
       "20              Maryland      28.0     23.3      23.1     24.2     23.2   \n",
       "21         Massachusetts      29.0     25.4      25.3     25.9     24.7   \n",
       "22              Michigan      29.0     24.1      23.7     24.5     23.8   \n",
       "23             Minnesota     100.0     20.4      21.5     21.8     21.6   \n",
       "24           Mississippi     100.0     18.2      18.1     18.8     18.8   \n",
       "25              Missouri     100.0     19.8      19.9     20.8     20.5   \n",
       "26               Montana     100.0     19.0      20.2     21.0     20.5   \n",
       "27              Nebraska      84.0     20.9      20.9     21.9     21.5   \n",
       "28                Nevada     100.0     16.3      18.0     18.1     18.2   \n",
       "29         New Hampshire      18.0     25.4      25.1     26.0     24.9   \n",
       "30            New Jersey      34.0     23.8      23.8     24.1     23.2   \n",
       "31            New Mexico      66.0     18.6      19.4     20.4     20.0   \n",
       "32              New York      31.0     23.8      24.0     24.6     23.9   \n",
       "33        North Carolina     100.0     17.8      19.3     19.6     19.3   \n",
       "34          North Dakota      98.0     19.0      20.4     20.5     20.6   \n",
       "35                  Ohio      75.0     21.2      21.6     22.5     22.0   \n",
       "36              Oklahoma     100.0     18.5      18.8     20.1     19.6   \n",
       "37                Oregon      40.0     21.2      21.5     22.4     21.7   \n",
       "38          Pennsylvania      23.0     23.4      23.4     24.2     23.3   \n",
       "39          Rhode Island      21.0     24.0      23.3     24.7     23.4   \n",
       "40        South Carolina     100.0     17.5      18.6     19.1     18.9   \n",
       "41          South Dakota      80.0     20.7      21.5     22.3     22.0   \n",
       "42             Tennessee     100.0     19.5      19.2     20.1     19.9   \n",
       "43                 Texas      45.0     19.5      20.7     21.1     20.9   \n",
       "44                  Utah     100.0     19.5      19.9     20.8     20.6   \n",
       "45               Vermont      29.0     23.3      23.1     24.4     23.2   \n",
       "46              Virginia      29.0     23.5      23.3     24.6     23.5   \n",
       "47            Washington      29.0     20.9      21.9     22.1     22.0   \n",
       "48         West Virginia      69.0     20.0      19.4     21.2     20.5   \n",
       "49             Wisconsin     100.0     19.7      20.4     20.6     20.9   \n",
       "50               Wyoming     100.0     19.4      19.8     20.8     20.6   \n",
       "\n",
       "    Composite  Part_SAT  EBRW  Math_SAT  Total  \n",
       "0        19.2       5.0   593       572   1165  \n",
       "1        19.8      38.0   547       533   1080  \n",
       "2        19.7      30.0   563       553   1116  \n",
       "3        19.4       3.0   614       594   1208  \n",
       "4        22.8      53.0   531       524   1055  \n",
       "5        20.8      11.0   606       595   1201  \n",
       "6        25.2     100.0   530       512   1041  \n",
       "7        24.1     100.0   503       492    996  \n",
       "8        24.2     100.0   482       468    950  \n",
       "9        19.8      83.0   520       497   1017  \n",
       "10       21.4      61.0   535       515   1050  \n",
       "11       19.0      55.0   544       541   1085  \n",
       "12       22.3      93.0   513       493   1005  \n",
       "13       21.4       9.0   559       556   1115  \n",
       "14       22.6      63.0   542       532   1074  \n",
       "15       21.9       2.0   641       635   1275  \n",
       "16       21.7       4.0   632       628   1260  \n",
       "17       20.0       4.0   631       616   1247  \n",
       "18       19.5       4.0   611       586   1198  \n",
       "19       24.3      95.0   513       499   1012  \n",
       "20       23.6      69.0   536       524   1060  \n",
       "21       25.4      76.0   555       551   1107  \n",
       "22       24.1     100.0   509       495   1005  \n",
       "23       21.5       3.0   644       651   1295  \n",
       "24       18.6       2.0   634       607   1242  \n",
       "25       20.4       3.0   640       631   1271  \n",
       "26       20.3      10.0   605       591   1196  \n",
       "27       21.4       3.0   629       625   1253  \n",
       "28       17.8      26.0   563       553   1116  \n",
       "29       25.5      96.0   532       520   1052  \n",
       "30       23.9      70.0   530       526   1056  \n",
       "31       19.7      11.0   577       561   1138  \n",
       "32       24.2      67.0   528       523   1052  \n",
       "33       19.1      49.0   546       535   1081  \n",
       "34       20.3       2.0   635       621   1256  \n",
       "35       22.0      12.0   578       570   1149  \n",
       "36       19.4       7.0   530       517   1047  \n",
       "37       21.8      43.0   560       548   1108  \n",
       "38       23.7      65.0   540       531   1071  \n",
       "39       24.0      71.0   539       524   1062  \n",
       "40       18.7      50.0   543       521   1064  \n",
       "41       21.8       3.0   612       603   1216  \n",
       "42       19.8       5.0   623       604   1228  \n",
       "43       20.7      62.0   513       507   1020  \n",
       "44       20.3       3.0   624       614   1238  \n",
       "45       23.6      60.0   562       551   1114  \n",
       "46       23.8      65.0   561       541   1102  \n",
       "47       21.9      64.0   541       534   1075  \n",
       "48       20.4      14.0   558       528   1086  \n",
       "49       20.5       3.0   642       649   1291  \n",
       "50       20.2       3.0   626       604   1230  "
      ]
     },
     "execution_count": 860,
     "metadata": {},
     "output_type": "execute_result"
    }
   ],
   "source": [
    "combined\n",
    "combined_2"
   ]
  },
  {
   "cell_type": "markdown",
   "metadata": {},
   "source": [
    "##### 14. Sort the dataframe by the values in a numeric column (e.g. observations descending by SAT participation rate)"
   ]
  },
  {
   "cell_type": "code",
   "execution_count": 902,
   "metadata": {},
   "outputs": [],
   "source": [
    "combined.sort_values(\"Part_SAT\", ascending=False, inplace=True)"
   ]
  },
  {
   "cell_type": "markdown",
   "metadata": {},
   "source": [
    "##### 15. Use a boolean filter to display only observations with a score above a certain threshold (e.g. only states with a participation rate above 50%)"
   ]
  },
  {
   "cell_type": "code",
   "execution_count": 903,
   "metadata": {},
   "outputs": [],
   "source": [
    "high_act = combined['Composite'] > 20"
   ]
  },
  {
   "cell_type": "markdown",
   "metadata": {},
   "source": [
    "## Step 3: Visualize the data"
   ]
  },
  {
   "cell_type": "markdown",
   "metadata": {
    "collapsed": true
   },
   "source": [
    "##### 16. Using MatPlotLib and PyPlot, plot the distribution of the Rate columns for both SAT and ACT using histograms. (You should have two histograms. You might find [this link](https://matplotlib.org/users/pyplot_tutorial.html#working-with-multiple-figures-and-axes) helpful in organizing one plot above the other.) "
   ]
  },
  {
   "cell_type": "code",
   "execution_count": 904,
   "metadata": {
    "scrolled": true
   },
   "outputs": [
    {
     "data": {
      "text/plain": [
       "<matplotlib.axes._subplots.AxesSubplot at 0x1a24af2080>"
      ]
     },
     "execution_count": 904,
     "metadata": {},
     "output_type": "execute_result"
    },
    {
     "data": {
      "image/png": "[encoded data removed]",
      "text/plain": [
       "<Figure size 432x288 with 1 Axes>"
      ]
     },
     "metadata": {},
     "output_type": "display_data"
    }
   ],
   "source": [
    "combined_2['Part_ACT'].plot(kind='hist')"
   ]
  },
  {
   "cell_type": "code",
   "execution_count": 905,
   "metadata": {
    "scrolled": true
   },
   "outputs": [
    {
     "data": {
      "text/plain": [
       "<matplotlib.axes._subplots.AxesSubplot at 0x1a248c86d8>"
      ]
     },
     "execution_count": 905,
     "metadata": {},
     "output_type": "execute_result"
    },
    {
     "data": {
      "image/png": "[encoded data removed]",
      "text/plain": [
       "<Figure size 432x288 with 1 Axes>"
      ]
     },
     "metadata": {},
     "output_type": "display_data"
    }
   ],
   "source": [
    "combined_2['Part_SAT'].plot(kind='hist')"
   ]
  },
  {
   "cell_type": "markdown",
   "metadata": {},
   "source": [
    "##### 17. Plot the Math(s) distributions from both data sets."
   ]
  },
  {
   "cell_type": "code",
   "execution_count": 906,
   "metadata": {
    "scrolled": true
   },
   "outputs": [
    {
     "data": {
      "text/plain": [
       "<matplotlib.axes._subplots.AxesSubplot at 0x1a248bf4e0>"
      ]
     },
     "execution_count": 906,
     "metadata": {},
     "output_type": "execute_result"
    },
    {
     "data": {
      "image/png": "[encoded data removed]",
      "text/plain": [
       "<Figure size 432x288 with 1 Axes>"
      ]
     },
     "metadata": {},
     "output_type": "display_data"
    }
   ],
   "source": [
    "combined_2['Math_SAT'].plot(kind='hist')\n",
    "# the math act seams to have a bimodal distrbution. Some states fell into the better distribution, where others \n",
    "# fell into a worse one. There is a large amount of mediocre scores. "
   ]
  },
  {
   "cell_type": "code",
   "execution_count": 907,
   "metadata": {},
   "outputs": [
    {
     "data": {
      "text/plain": [
       "<matplotlib.axes._subplots.AxesSubplot at 0x1a24cc9a20>"
      ]
     },
     "execution_count": 907,
     "metadata": {},
     "output_type": "execute_result"
    },
    {
     "data": {
      "image/png": "[encoded data removed]",
      "text/plain": [
       "<Figure size 432x288 with 1 Axes>"
      ]
     },
     "metadata": {},
     "output_type": "display_data"
    }
   ],
   "source": [
    "combined_2['Math_ACT'].plot(kind='hist')\n",
    "#math act seems like it is skewed right, where more states did worse, and only a few states did well. "
   ]
  },
  {
   "cell_type": "markdown",
   "metadata": {},
   "source": [
    "##### 18. Plot the Verbal distributions from both data sets."
   ]
  },
  {
   "cell_type": "code",
   "execution_count": 908,
   "metadata": {},
   "outputs": [
    {
     "data": {
      "text/plain": [
       "<matplotlib.axes._subplots.AxesSubplot at 0x1a24b80b00>"
      ]
     },
     "execution_count": 908,
     "metadata": {},
     "output_type": "execute_result"
    },
    {
     "data": {
      "image/png": "[encoded data removed]",
      "text/plain": [
       "<Figure size 432x288 with 1 Axes>"
      ]
     },
     "metadata": {},
     "output_type": "display_data"
    }
   ],
   "source": [
    "combined_2['Reading'].plot(kind='hist')\n",
    "#For reading there is a high number of low-medium scores, and again a few high scores. "
   ]
  },
  {
   "cell_type": "code",
   "execution_count": 909,
   "metadata": {},
   "outputs": [
    {
     "data": {
      "text/plain": [
       "<matplotlib.axes._subplots.AxesSubplot at 0x1a24af2eb8>"
      ]
     },
     "execution_count": 909,
     "metadata": {},
     "output_type": "execute_result"
    },
    {
     "data": {
      "image/png": "[encoded data removed]",
      "text/plain": [
       "<Figure size 432x288 with 1 Axes>"
      ]
     },
     "metadata": {},
     "output_type": "display_data"
    }
   ],
   "source": [
    "combined_2['English'].plot(kind='hist')\n",
    "#This distribution has many high points at different scores. Perhaps there were states with less\n",
    "# english spoken. "
   ]
  },
  {
   "cell_type": "code",
   "execution_count": 910,
   "metadata": {
    "scrolled": true
   },
   "outputs": [
    {
     "data": {
      "text/plain": [
       "<matplotlib.axes._subplots.AxesSubplot at 0x1a25aee898>"
      ]
     },
     "execution_count": 910,
     "metadata": {},
     "output_type": "execute_result"
    },
    {
     "data": {
      "image/png": "[encoded data removed]",
      "text/plain": [
       "<Figure size 432x288 with 1 Axes>"
      ]
     },
     "metadata": {},
     "output_type": "display_data"
    }
   ],
   "source": [
    "combined_2['Science'].plot(kind='hist')\n",
    "#with the exception of 22, this seems to be the closest to a normally distrubted data set with the high point right around the mean. "
   ]
  },
  {
   "cell_type": "code",
   "execution_count": 870,
   "metadata": {},
   "outputs": [
    {
     "data": {
      "text/plain": [
       "<matplotlib.axes._subplots.AxesSubplot at 0x1a22ef8da0>"
      ]
     },
     "execution_count": 870,
     "metadata": {},
     "output_type": "execute_result"
    },
    {
     "data": {
      "image/png": "[encoded data removed]",
      "text/plain": [
       "<Figure size 432x288 with 1 Axes>"
      ]
     },
     "metadata": {},
     "output_type": "display_data"
    }
   ],
   "source": [
    "combined_2['Composite'].plot(kind='hist')\n",
    "#the composite is skewed right for the act. There are few states with high scores, and many with lower scores. "
   ]
  },
  {
   "cell_type": "code",
   "execution_count": 871,
   "metadata": {
    "scrolled": true
   },
   "outputs": [
    {
     "data": {
      "text/plain": [
       "<matplotlib.axes._subplots.AxesSubplot at 0x1a21990be0>"
      ]
     },
     "execution_count": 871,
     "metadata": {},
     "output_type": "execute_result"
    },
    {
     "data": {
      "image/png": "[encoded data removed]",
      "text/plain": [
       "<Figure size 432x288 with 1 Axes>"
      ]
     },
     "metadata": {},
     "output_type": "display_data"
    }
   ],
   "source": [
    "combined_2['EBRW'].plot(kind='hist')\n",
    "#the reason comprehension on the SAT seems to also be bimodal, with most states in a mediocre score range,\n",
    "#and a few states with really high scores. "
   ]
  },
  {
   "cell_type": "code",
   "execution_count": 872,
   "metadata": {
    "scrolled": true
   },
   "outputs": [
    {
     "data": {
      "text/plain": [
       "<matplotlib.axes._subplots.AxesSubplot at 0x1a262504e0>"
      ]
     },
     "execution_count": 872,
     "metadata": {},
     "output_type": "execute_result"
    },
    {
     "data": {
      "image/png": "[encoded data removed]",
      "text/plain": [
       "<Figure size 432x288 with 1 Axes>"
      ]
     },
     "metadata": {},
     "output_type": "display_data"
    }
   ],
   "source": [
    "combined_2['Total'].plot(kind='hist')\n",
    "#the sat total looks alot like the EBRW graph, in that some states have high scores, but most have lower scores. "
   ]
  },
  {
   "cell_type": "markdown",
   "metadata": {},
   "source": [
    "##### 19. When we make assumptions about how data are distributed, what is the most common assumption?"
   ]
  },
  {
   "cell_type": "code",
   "execution_count": 873,
   "metadata": {},
   "outputs": [],
   "source": [
    "#the data is normally distributed"
   ]
  },
  {
   "cell_type": "markdown",
   "metadata": {},
   "source": [
    "##### 20. Does this assumption hold true for any of our columns? Which?"
   ]
  },
  {
   "cell_type": "code",
   "execution_count": 874,
   "metadata": {},
   "outputs": [],
   "source": [
    "# these distributions are not normally distributed. "
   ]
  },
  {
   "cell_type": "markdown",
   "metadata": {},
   "source": [
    "##### 21. Plot some scatterplots examining relationships between all variables."
   ]
  },
  {
   "cell_type": "code",
   "execution_count": 875,
   "metadata": {
    "scrolled": false
   },
   "outputs": [
    {
     "data": {
      "text/plain": [
       "<seaborn.axisgrid.PairGrid at 0x1a2430b208>"
      ]
     },
     "execution_count": 875,
     "metadata": {},
     "output_type": "execute_result"
    },
    {
     "data": {
      "image/png": "[encoded data removed]",
      "text/plain": [
       "<Figure size 1440x1440 with 72 Axes>"
      ]
     },
     "metadata": {},
     "output_type": "display_data"
    }
   ],
   "source": [
    "sns.pairplot(combined_2[['Part_ACT', 'English', 'Math_ACT', 'Reading', 'Science', 'Part_SAT', 'EBRW', 'Math_SAT']], kind = 'scatter')"
   ]
  },
  {
   "cell_type": "markdown",
   "metadata": {},
   "source": [
    "##### 22. Are there any interesting relationships to note?"
   ]
  },
  {
   "cell_type": "code",
   "execution_count": 876,
   "metadata": {},
   "outputs": [],
   "source": [
    "# everything looks fairly like it should"
   ]
  },
  {
   "cell_type": "markdown",
   "metadata": {},
   "source": [
    "##### 23. Create box plots for each variable. "
   ]
  },
  {
   "cell_type": "code",
   "execution_count": 877,
   "metadata": {},
   "outputs": [
    {
     "data": {
      "image/png": "[encoded data removed]",
      "text/plain": [
       "<Figure size 432x288 with 1 Axes>"
      ]
     },
     "metadata": {},
     "output_type": "display_data"
    }
   ],
   "source": [
    "combined_2.boxplot('Part_ACT');"
   ]
  },
  {
   "cell_type": "code",
   "execution_count": 878,
   "metadata": {},
   "outputs": [
    {
     "data": {
      "image/png": "[encoded data removed]",
      "text/plain": [
       "<Figure size 432x288 with 1 Axes>"
      ]
     },
     "metadata": {},
     "output_type": "display_data"
    }
   ],
   "source": [
    "combined_2.boxplot('English');"
   ]
  },
  {
   "cell_type": "code",
   "execution_count": 879,
   "metadata": {},
   "outputs": [
    {
     "data": {
      "image/png": "[encoded data removed]",
      "text/plain": [
       "<Figure size 432x288 with 1 Axes>"
      ]
     },
     "metadata": {},
     "output_type": "display_data"
    }
   ],
   "source": [
    "combined_2.boxplot('Math_ACT');"
   ]
  },
  {
   "cell_type": "code",
   "execution_count": 880,
   "metadata": {},
   "outputs": [
    {
     "data": {
      "image/png": "[encoded data removed]",
      "text/plain": [
       "<Figure size 432x288 with 1 Axes>"
      ]
     },
     "metadata": {},
     "output_type": "display_data"
    }
   ],
   "source": [
    "combined_2.boxplot('Reading');"
   ]
  },
  {
   "cell_type": "code",
   "execution_count": 881,
   "metadata": {},
   "outputs": [
    {
     "data": {
      "image/png": "[encoded data removed]",
      "text/plain": [
       "<Figure size 432x288 with 1 Axes>"
      ]
     },
     "metadata": {},
     "output_type": "display_data"
    }
   ],
   "source": [
    "combined_2.boxplot('Science');"
   ]
  },
  {
   "cell_type": "code",
   "execution_count": 882,
   "metadata": {},
   "outputs": [
    {
     "data": {
      "image/png": "[encoded data removed]",
      "text/plain": [
       "<Figure size 432x288 with 1 Axes>"
      ]
     },
     "metadata": {},
     "output_type": "display_data"
    }
   ],
   "source": [
    "combined_2.boxplot('Composite');"
   ]
  },
  {
   "cell_type": "code",
   "execution_count": 883,
   "metadata": {},
   "outputs": [
    {
     "data": {
      "image/png": "[encoded data removed]",
      "text/plain": [
       "<Figure size 432x288 with 1 Axes>"
      ]
     },
     "metadata": {},
     "output_type": "display_data"
    }
   ],
   "source": [
    "combined_2.boxplot('Part_SAT');"
   ]
  },
  {
   "cell_type": "code",
   "execution_count": 884,
   "metadata": {},
   "outputs": [
    {
     "data": {
      "image/png": "[encoded data removed]",
      "text/plain": [
       "<Figure size 432x288 with 1 Axes>"
      ]
     },
     "metadata": {},
     "output_type": "display_data"
    }
   ],
   "source": [
    "combined_2.boxplot('EBRW');"
   ]
  },
  {
   "cell_type": "code",
   "execution_count": 885,
   "metadata": {
    "scrolled": false
   },
   "outputs": [
    {
     "data": {
      "image/png": "[encoded data removed]",
      "text/plain": [
       "<Figure size 432x288 with 1 Axes>"
      ]
     },
     "metadata": {},
     "output_type": "display_data"
    }
   ],
   "source": [
    "combined_2.boxplot('Math_SAT');"
   ]
  },
  {
   "cell_type": "code",
   "execution_count": 886,
   "metadata": {},
   "outputs": [
    {
     "data": {
      "image/png": "[encoded data removed]",
      "text/plain": [
       "<Figure size 432x288 with 1 Axes>"
      ]
     },
     "metadata": {},
     "output_type": "display_data"
    }
   ],
   "source": [
    "combined_2.boxplot('Total');"
   ]
  },
  {
   "cell_type": "markdown",
   "metadata": {},
   "source": [
    "##### BONUS: Using Tableau, create a heat map for each variable using a map of the US. "
   ]
  },
  {
   "cell_type": "code",
   "execution_count": null,
   "metadata": {},
   "outputs": [],
   "source": []
  },
  {
   "cell_type": "markdown",
   "metadata": {},
   "source": [
    "## Step 4: Descriptive and Inferential Statistics"
   ]
  },
  {
   "cell_type": "markdown",
   "metadata": {},
   "source": [
    "##### 24. Summarize each distribution. As data scientists, be sure to back up these summaries with statistics. (Hint: What are the three things we care about when describing distributions?)"
   ]
  },
  {
   "cell_type": "code",
   "execution_count": 887,
   "metadata": {},
   "outputs": [],
   "source": [
    "#these are described in the individual graphs. "
   ]
  },
  {
   "cell_type": "markdown",
   "metadata": {},
   "source": [
    "##### 25. Summarize each relationship. Be sure to back up these summaries with statistics."
   ]
  },
  {
   "cell_type": "code",
   "execution_count": 888,
   "metadata": {},
   "outputs": [],
   "source": [
    "#Participation rate of the ACT (First row on the left) has a slight positive relationship with math scores and EBRW,\n",
    "#but has a negative relationship with participation in SAT, Science, Reading, Math, and English.\n",
    "\n",
    "#English (ACT), has little relationship with the SAT subjects. However, it is positivly related with the other\n",
    "#act subjects.\n",
    "\n",
    "#Math_ACT has similar relationships as english. Very strong positive relationships with the other subjects of the\n",
    "#ACT, but not as high as others. \n",
    "\n",
    "#Reading and science are both positively related to the other ACT subjects, and have little relationship with SAT subjects\n",
    "\n",
    "#The SAT subjects all have a strong positive relationship with themselves, like the ACT subjects. \n",
    "#there are not a relationship between the different tests, which makes sense. "
   ]
  },
  {
   "cell_type": "markdown",
   "metadata": {},
   "source": [
    "##### 26. Execute a hypothesis test comparing the SAT and ACT participation rates. Use $\\alpha = 0.05$. Be sure to interpret your results."
   ]
  },
  {
   "cell_type": "code",
   "execution_count": 889,
   "metadata": {
    "scrolled": true
   },
   "outputs": [],
   "source": [
    "# H0, there is no difference in the means for SAT participation rates or ACT participation rates\n",
    "# HA, there is a difference in the means for SAT participation rates or ACT participation rates "
   ]
  },
  {
   "cell_type": "code",
   "execution_count": 890,
   "metadata": {},
   "outputs": [],
   "source": [
    "import scipy.stats as stats"
   ]
  },
  {
   "cell_type": "code",
   "execution_count": 891,
   "metadata": {},
   "outputs": [],
   "source": [
    "result = stats.ttest_ind(combined_2['Part_SAT'], combined_2['Part_ACT'])\n",
    "result\n",
    "t_stat = -3.8085778908170544"
   ]
  },
  {
   "cell_type": "code",
   "execution_count": 892,
   "metadata": {},
   "outputs": [
    {
     "data": {
      "text/plain": [
       "Ttest_indResult(statistic=-3.8085778908170544, pvalue=0.00024134203698662353)"
      ]
     },
     "execution_count": 892,
     "metadata": {},
     "output_type": "execute_result"
    }
   ],
   "source": [
    "result"
   ]
  },
  {
   "cell_type": "code",
   "execution_count": 893,
   "metadata": {},
   "outputs": [],
   "source": [
    "n_ACT = len(combined_2['Part_ACT'])\n",
    "n_SAT = len(combined_2['Part_SAT'])\n",
    "\n",
    "lower_tail = stats.t.cdf(-abs(t_stat), n_ACT+n_SAT-2)\n",
    "upper_tail = 1.0 - stats.t.cdf(abs(t_stat), n_ACT+n_SAT-2)"
   ]
  },
  {
   "cell_type": "code",
   "execution_count": 894,
   "metadata": {},
   "outputs": [
    {
     "data": {
      "text/plain": [
       "0.00012067101849333461"
      ]
     },
     "execution_count": 894,
     "metadata": {},
     "output_type": "execute_result"
    }
   ],
   "source": [
    "lower_tail\n",
    "upper_tail"
   ]
  },
  {
   "cell_type": "markdown",
   "metadata": {},
   "source": [
    "##### 27. Generate and interpret 95% confidence intervals for SAT and ACT participation rates."
   ]
  },
  {
   "cell_type": "code",
   "execution_count": 895,
   "metadata": {},
   "outputs": [],
   "source": [
    "se = (((combined_2['Part_ACT'].std()/len(combined_2['Part_ACT']))+((combined_2['Part_SAT'].std()/len(combined_2['Part_SAT'])))))**.5"
   ]
  },
  {
   "cell_type": "code",
   "execution_count": 896,
   "metadata": {},
   "outputs": [
    {
     "data": {
      "text/plain": [
       "1.149743997813357"
      ]
     },
     "execution_count": 896,
     "metadata": {},
     "output_type": "execute_result"
    }
   ],
   "source": [
    "se"
   ]
  },
  {
   "cell_type": "code",
   "execution_count": 897,
   "metadata": {},
   "outputs": [
    {
     "data": {
      "text/plain": [
       "29.82986996232842"
      ]
     },
     "execution_count": 897,
     "metadata": {},
     "output_type": "execute_result"
    }
   ],
   "source": [
    "(combined_2['Part_ACT'].mean() - combined_2['Part_SAT'].mean()) - t_stat*se"
   ]
  },
  {
   "cell_type": "code",
   "execution_count": 898,
   "metadata": {},
   "outputs": [],
   "source": [
    "mean_of_sample_means = np.mean(combined_2['Part_ACT'])\n",
    "standard_error_of_mean = np.std(combined_2['Part_ACT'])/np.sqrt(len(combined_2['Part_ACT']))\n",
    "critical_z = stats.norm.ppf(q = 0.975) #because we are using 2.5 on either side to get .95\n",
    "\n",
    "margin_of_error = standard_error_of_mean * critical_z\n",
    "lower_man = mean_of_sample_means - margin_of_error\n",
    "upper_man = mean_of_sample_means + margin_of_error"
   ]
  },
  {
   "cell_type": "code",
   "execution_count": 899,
   "metadata": {},
   "outputs": [
    {
     "name": "stdout",
     "output_type": "stream",
     "text": [
      "56.5207615945811\n",
      "73.98904232698752\n"
     ]
    }
   ],
   "source": [
    "print(lower_man)\n",
    "print(upper_man)"
   ]
  },
  {
   "cell_type": "code",
   "execution_count": 900,
   "metadata": {},
   "outputs": [],
   "source": [
    "mean_of_sample_means = np.mean(combined_2['Part_SAT'])\n",
    "standard_error_of_mean = np.std(combined_2['Part_SAT'])/np.sqrt(len(combined_2['Part_SAT']))\n",
    "critical_z = stats.norm.ppf(q = 0.975) #because we are using 2.5 on either side to get .95\n",
    "\n",
    "margin_of_error = standard_error_of_mean * critical_z\n",
    "lower_man = mean_of_sample_means - margin_of_error\n",
    "upper_man = mean_of_sample_means + margin_of_error"
   ]
  },
  {
   "cell_type": "code",
   "execution_count": 901,
   "metadata": {},
   "outputs": [
    {
     "name": "stdout",
     "output_type": "stream",
     "text": [
      "30.217643220943465\n",
      "49.39019991631144\n"
     ]
    }
   ],
   "source": [
    "print(lower_man)\n",
    "print(upper_man)"
   ]
  },
  {
   "cell_type": "code",
   "execution_count": 812,
   "metadata": {},
   "outputs": [],
   "source": [
    "# a>p, so we can reject the null hypothesis"
   ]
  },
  {
   "cell_type": "markdown",
   "metadata": {},
   "source": [
    "##### 28. Given your answer to 26, was your answer to 27 surprising? Why?"
   ]
  },
  {
   "cell_type": "code",
   "execution_count": 813,
   "metadata": {},
   "outputs": [],
   "source": [
    "#no, p value is really small, and the confidence intervals do not overlap"
   ]
  },
  {
   "cell_type": "markdown",
   "metadata": {},
   "source": [
    "##### 29. Is it appropriate to generate correlation between SAT and ACT math scores? Why?"
   ]
  },
  {
   "cell_type": "code",
   "execution_count": 814,
   "metadata": {},
   "outputs": [],
   "source": [
    "#not unless there was some way of putting them in the same units, but currently they are out of different scales.\n",
    "#you could do it on a percentile basis, given that data. "
   ]
  },
  {
   "cell_type": "markdown",
   "metadata": {},
   "source": [
    "##### 30. Suppose we only seek to understand the relationship between SAT and ACT data in 2017. Does it make sense to conduct statistical inference given the data we have? Why?"
   ]
  },
  {
   "cell_type": "code",
   "execution_count": 815,
   "metadata": {},
   "outputs": [],
   "source": [
    "# there are not too many data points, so you can use the entirety of the data. "
   ]
  }
 ],
 "metadata": {
  "anaconda-cloud": {},
  "kernelspec": {
   "display_name": "Python [default]",
   "language": "python",
   "name": "python3"
  },
  "language_info": {
   "codemirror_mode": {
    "name": "ipython",
    "version": 3
   },
   "file_extension": ".py",
   "mimetype": "text/x-python",
   "name": "python",
   "nbconvert_exporter": "python",
   "pygments_lexer": "ipython3",
   "version": "3.6.5"
  }
 },
 "nbformat": 4,
 "nbformat_minor": 1
}
